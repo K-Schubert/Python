{
 "cells": [
  {
   "cell_type": "markdown",
   "metadata": {},
   "source": [
    "# TP1 Naive Bayes - Kieran Schubert - 11/03/19"
   ]
  },
  {
   "cell_type": "markdown",
   "metadata": {},
   "source": [
    "## Theoretical setting\n",
    "The Naive Bayes algorithm is a classification method which computes the Maximum A Posteriori probability of a class. Bayes Theorem states that $P(A|B) = \\frac{P(B|A)*P(A)}{P(B)}$ which can be interpreted as $Posterior = \\frac{likelihood*prior}{evidence}$. In practice, we will only compute the numerator as the *evidence* is proportional to all classes. In this TP, we will compute the *posterior* probabilities of observing a class given the data (e.g. $P(Iris \\_setosa|data)$ for the *Iris* dataset) as the product of the *likelihood* and the *prior*. The *prior* for each class is defined as $prior_i=\\frac{\\#class_i}{\\#training\\:examples}$, and the *likelihood* of a data point as $likelihood=P(x_i|class)= \\prod_{i=1}^{p} P(x_{i}|class)$ since we assume the features are conditionally independent. We can then select the posterior with highest probability (MAP) to predict the most probable class for our new example. \n",
    "\n",
    "For the *Titanic* dataset, the data is categorical and the features are assumend to be conditionally independent. We can use frequencies to compute probabilities for the levels of each feature. In the case of the *Iris* dataset, we will first discretize the data and compute the MAP probability similarly to the *Titanic* case by assuming independence of the features. We then treat the features as continuous, normally distributed and also conditionally independent. We estimate the sample means and variances of each feature conditioning on class in the training set to obtain the probabilities for new data points in the test set. "
   ]
  },
  {
   "cell_type": "markdown",
   "metadata": {},
   "source": [
    "#### This section contains the functions for Naive Bayes classification on the *Iris* and *Titanic* datasets:"
   ]
  },
  {
   "cell_type": "code",
   "execution_count": 1,
   "metadata": {},
   "outputs": [],
   "source": [
    "import numpy as np\n",
    "import pandas as pd\n",
    "import math\n",
    "import random"
   ]
  },
  {
   "cell_type": "code",
   "execution_count": 2,
   "metadata": {},
   "outputs": [],
   "source": [
    "############ CONTINUOUS DATA FUNCTIONS ############   \n",
    "\n",
    "def return_labels(x):\n",
    "    \"\"\"This function takes a dataset as input and returns the classification labels, assuming the last column contains the labels\"\"\"\n",
    "    labels = pd.unique(x.iloc[:,-1])\n",
    "    return labels\n",
    "\n",
    "def split_data_random(x, train_ratio):\n",
    "    \"\"\"This function takes a dataset and train_ratio as inputs and returns a training set and test set\"\"\"\n",
    "    train_size = math.floor(x.shape[0]*train_ratio)\n",
    "    ind = random.sample(range(x.shape[0]), train_size)\n",
    "    train_set = x.iloc[ind, :]\n",
    "    test_set = x.iloc[~x.index.isin(train_set.index)]\n",
    "    return train_set, test_set\n",
    "\n",
    "def split_by_class(train_set, labels):\n",
    "    \"\"\"This function takes a training set and labels as inputs and splits the training set into classes using the class labels\"\"\"\n",
    "    split_dataset = {}\n",
    "    for i in range(len(labels)):\n",
    "        split_dataset[i] = train_set.loc[train_set.iloc[:,-1] == labels[i]]   \n",
    "    return split_dataset\n",
    "\n",
    "def mean_var_by_class(train_set, labels):\n",
    "    \"\"\"This function takes a training set and labels as inputs and returns the mean and variance for each class\"\"\"\n",
    "    mean = np.zeros((len(labels), train_set.shape[1]-1))\n",
    "    var = np.zeros((len(labels), train_set.shape[1]-1))\n",
    "    split = split_by_class(train_set, labels)\n",
    "    for i in range(len(labels)):\n",
    "        mean[i] = split[i].mean()\n",
    "        var[i] = split[i].var()\n",
    "    return mean, var\n",
    "\n",
    "def prior(train_set, labels):\n",
    "    \"\"\"This function takes a training set and labels as input and returns the prior probabilities based on the occurences in the training set\"\"\"\n",
    "    pr = np.zeros(len(labels))\n",
    "    for i in range(len(labels)):\n",
    "        pr[i] = (train_set.iloc[:,-1] == labels[i]).sum() / train_set.shape[0]   \n",
    "    return pr \n",
    "\n",
    "def normal_distr(x, mu, var):\n",
    "    \"\"\"This function takes a vector of data, a mean and variance as inputs and returns the normal distribution value\"\"\"\n",
    "    normal_proba = (1/np.sqrt(2*np.pi*var))*np.exp((-(x-mu)**2)/(2*var))    \n",
    "    return normal_proba   \n",
    " \n",
    "def train_cont(x, train_ratio):\n",
    "    \"\"\"This function takes a continuous dataset and a training ratio as inputs and returns labels, a training set, a test set, the split datasets, the mean and variance of each class and the prior probabilites\"\"\"\n",
    "    labels = return_labels(x)\n",
    "    train_set, test_set = split_data_random(x, train_ratio)\n",
    "    split_dataset = split_by_class(train_set, labels)\n",
    "    mean, var = mean_var_by_class(train_set, labels)\n",
    "    pr = prior(train_set, labels)\n",
    "    return  labels, train_set, test_set, split_dataset, mean, var, pr\n",
    "  \n",
    "def posterior_cont(test_set, pr, mean, var, labels):\n",
    "    \"\"\"This function takes a training set, test set, prior probabilies, mean variance and labels and returns the posterior probability of observing a class given the (continuous) data\"\"\"\n",
    "    normal_distr_vec = np.vectorize(normal_distr)\n",
    "    post = np.zeros((len(labels)))\n",
    "    for i in range(len(labels)):\n",
    "        post[i] = np.prod([normal_distr_vec(test_set, mean[i,:], var[i,:])], axis=1)*pr[i]\n",
    "    return post\n",
    "\n",
    "def predict_class_cont(post):\n",
    "    \"This function takes posterior probabilities by class as input and returns a class prediction (for continuous data)\"\n",
    "    pred_class = np.argmax(post, axis=1)\n",
    "    return pred_class\n",
    "   \n",
    "    \n",
    "############ DISCRETE DATA FUNCTIONS ############   \n",
    "    \n",
    "    \n",
    "def return_levels(train_set):\n",
    "    \"\"\"This function takes a training set as input and returns the levels of the categorical data\"\"\"\n",
    "    levels = []\n",
    "    for i in range(train_set.shape[1]-1):\n",
    "        levels.append(pd.unique(train_set.iloc[:,i]))\n",
    "\n",
    "    levels = np.concatenate(levels)\n",
    "    return levels\n",
    "\n",
    "def freq_by_class(split_dataset, levels):\n",
    "    \"\"\"This function takes a dataset split by class and levels as inputs and returns the discrete data frequencies for each class\"\"\"\n",
    "    frequency_by_class = {}\n",
    "    my_dict = {}\n",
    "    for j in range(len(split_dataset.keys())):\n",
    "        freq_class = []\n",
    "        for col in range(split_dataset[j].shape[1]-1):\n",
    "            levels = pd.unique(split_dataset[j].iloc[:,col])\n",
    "            for i in range(len(levels)):\n",
    "                x = (split_dataset[j].iloc[:,col] == levels[i]).sum() / split_dataset[j].shape[0]\n",
    "                freq_class.append(x)\n",
    "        frequency_by_class[j] = freq_class\n",
    "    return frequency_by_class\n",
    "\n",
    "def discr_probas(frequency_by_class, levels, labels):\n",
    "    \"\"\"This function takes the frequency by class, levels and data labels for discrete data and returns a dictionnary containing the probabilities of observing data\"\"\"\n",
    "    probas = {}\n",
    "    for j in range(len(frequency_by_class.keys())):\n",
    "        freq_table = dict(list(enumerate(frequency_by_class[j])))\n",
    "        for i in range(len(frequency_by_class[j])):\n",
    "            freq_table[levels[i]] = freq_table.pop(i)\n",
    "            probas[j] = freq_table\n",
    "            probas[labels[j]] = probas.pop(j)\n",
    "    return probas\n",
    "\n",
    "def train_discr(x, train_ratio):\n",
    "    \"\"\"This function takes a dataset and a training ratio as inputs and returns labels, a training set, a test set, split datasets by class, prior probabilities based on the frequencies and discrete probabilites\"\"\"\n",
    "    labels = return_labels(x)\n",
    "    train_set, test_set = split_data_random(x, train_ratio)\n",
    "    levels = return_levels(train_set)\n",
    "    split_dataset = split_by_class(train_set, labels)\n",
    "    pr = prior(train_set, labels)\n",
    "    frequency_by_class = freq_by_class(split_dataset, levels)\n",
    "    probas = discr_probas(frequency_by_class, levels, labels)\n",
    "    return  labels, train_set, test_set, split_dataset, pr, probas\n",
    "\n",
    "def posterior_discr(test_example, pr, labels, probas):\n",
    "    \"This function takes a test data example, prior probabilities, labels and discrete data probabilities as inputs and returns a posterior probability for discrete data\"\n",
    "    x = test_example\n",
    "    cond_prob = np.zeros((len(labels), x.shape[0]))\n",
    "    for k in range(len(labels)):\n",
    "        for j in range(x.shape[0]):\n",
    "            mykeys = [x.iloc[j]]\n",
    "            freq_table = probas[labels[k]]\n",
    "            try:\n",
    "                cond_prob[k, [j]] = [freq_table[i] for i in mykeys]\n",
    "            except KeyError:\n",
    "                cond_prob[k, [j]] = 0\n",
    "                \n",
    "    post = np.multiply(pr, np.prod(cond_prob, axis=1))\n",
    "    return post\n",
    "\n",
    "def predict_class_discr(post):\n",
    "    \"\"\"This function takes a posterior probability of observing a class given data and returns a prediction of class\"\"\"\n",
    "    pred_class = np.argmax(post, axis=1) #0 for individual ex, 1 for all test_set\n",
    "    return pred_class"
   ]
  },
  {
   "cell_type": "markdown",
   "metadata": {},
   "source": [
    "## Titanic dataset:"
   ]
  },
  {
   "cell_type": "markdown",
   "metadata": {},
   "source": [
    "We start by setting the seed to reproduce results:"
   ]
  },
  {
   "cell_type": "code",
   "execution_count": 3,
   "metadata": {},
   "outputs": [],
   "source": [
    "np.random.seed(42)"
   ]
  },
  {
   "cell_type": "markdown",
   "metadata": {},
   "source": [
    "The titanic dataset is imported as a pandas dataframe. We see that there are p = 3 features (*class*, *age* and *sex*) and n = 2201 observations. The last column of the dataframe contains the classification labels."
   ]
  },
  {
   "cell_type": "code",
   "execution_count": 4,
   "metadata": {},
   "outputs": [
    {
     "name": "stdout",
     "output_type": "stream",
     "text": [
      "   class  age  sex  result\n",
      "0  first  adu    m    surv\n",
      "1  first  adu    m    surv\n",
      "2  first  adu    m    surv\n",
      "3  first  adu    m    surv\n",
      "4  first  adu    m    surv\n",
      "(2201, 4)\n"
     ]
    }
   ],
   "source": [
    "titanic = pd.read_csv('/Users/kieranschubert/Desktop/Statistics/2nd Semester/Data Mining/2019/TP1 Naive Bayes/titanic.csv', sep=',')\n",
    "print(titanic.head())\n",
    "print(titanic.shape)"
   ]
  },
  {
   "cell_type": "markdown",
   "metadata": {},
   "source": [
    "This dataset is categorical and each feature contains multiple levels. The *class* feature contains 4 levels (*first*, *second*, *third* and *crew*), the *age* feature contains 2 levels (*adulte* and *enfant*) and the *sex* feature contains 2 levels (*male* and *female*)."
   ]
  },
  {
   "cell_type": "markdown",
   "metadata": {},
   "source": [
    "### Training phase:"
   ]
  },
  {
   "cell_type": "code",
   "execution_count": 5,
   "metadata": {},
   "outputs": [
    {
     "name": "stdout",
     "output_type": "stream",
     "text": [
      "['first' 'second' 'third' 'crew' 'adu' 'enf' 'm' 'f']\n"
     ]
    }
   ],
   "source": [
    "levels = return_levels(titanic)\n",
    "print(levels)"
   ]
  },
  {
   "cell_type": "markdown",
   "metadata": {},
   "source": [
    "We train our model by retrieving the labels, separating our data into a training set and a test set, splitting the dataset by class in order to compute the frequencies of data points as our data is not continuous. We also compute the prior probabilities based on our training set."
   ]
  },
  {
   "cell_type": "code",
   "execution_count": 9,
   "metadata": {},
   "outputs": [],
   "source": [
    "labels, train_set, test_set, split_dataset, pr, probas = train_discr(titanic, 0.67)"
   ]
  },
  {
   "cell_type": "markdown",
   "metadata": {},
   "source": [
    "Once the model is trained, we want to make class predictions. We calculate the posterior probabilities for each class and select the Maximum a Posteriori value (the maximum probability of observing a class given the test data):"
   ]
  },
  {
   "cell_type": "markdown",
   "metadata": {},
   "source": [
    "### Test phase:"
   ]
  },
  {
   "cell_type": "code",
   "execution_count": 10,
   "metadata": {},
   "outputs": [],
   "source": [
    "post = np.zeros((test_set.shape[0], len(labels)))\n",
    "for i in range(test_set.shape[0]):\n",
    "    post[i, :] = posterior_discr(test_set.iloc[i, :-1], pr, labels, probas)\n",
    "pred_class = predict_class_discr(post)"
   ]
  },
  {
   "cell_type": "markdown",
   "metadata": {},
   "source": [
    "We now classify the whole test set and compute the missclassification rate. This rate fluctuates a bit since the training set is random but is between 20-30% most of the time. We also observe that the model has a tendency to classify many test instances as 'mort'. This might be due to the larger proportion of data labeled as 'mort' (priors) in the training set which creates a bias in classification."
   ]
  },
  {
   "cell_type": "code",
   "execution_count": 11,
   "metadata": {},
   "outputs": [
    {
     "name": "stdout",
     "output_type": "stream",
     "text": [
      "Missclassification rate = 0.23383768913342504\n",
      "    class  age  sex  result predicted_class\n",
      "3   first  adu    m    surv            mort\n",
      "5   first  adu    m    surv            mort\n",
      "7   first  adu    m    surv            mort\n",
      "13  first  adu    m    surv            mort\n",
      "17  first  adu    m    surv            mort\n"
     ]
    }
   ],
   "source": [
    "test_set_pred = test_set.assign(predicted_class = pred_class)\n",
    "test_set_pred = test_set_pred.replace(0, 'surv')\n",
    "test_set_pred = test_set_pred.replace(1, 'mort')\n",
    "missclass_rate = (test_set_pred.iloc[:,-2] != test_set_pred.iloc[:,-1]).sum() / test_set_pred.shape[0]\n",
    "print('Missclassification rate = {}'.format(missclass_rate))\n",
    "print(test_set_pred.head())"
   ]
  },
  {
   "cell_type": "markdown",
   "metadata": {},
   "source": [
    "## Iris dataset:"
   ]
  },
  {
   "cell_type": "markdown",
   "metadata": {},
   "source": [
    "In this part we treat the *Iris* data as being discrete (the realizations are treated as levels of a feature):"
   ]
  },
  {
   "cell_type": "code",
   "execution_count": 12,
   "metadata": {},
   "outputs": [
    {
     "name": "stdout",
     "output_type": "stream",
     "text": [
      "   sepal_length   sepal_width   petal_length   petal_width        type.\n",
      "0           5.1           3.5            1.4           0.2  Iris_setosa\n",
      "1           4.9           3.0            1.4           0.2  Iris_setosa\n",
      "2           4.7           3.2            1.3           0.2  Iris_setosa\n",
      "3           4.6           3.1            1.5           0.2  Iris_setosa\n",
      "4           5.0           3.6            1.4           0.2  Iris_setosa\n",
      "(150, 5)\n"
     ]
    }
   ],
   "source": [
    "iris = pd.read_csv('/Users/kieranschubert/Desktop/Statistics/2nd Semester/Data Mining/2019/TP1 Naive Bayes/iris.csv', sep=',')\n",
    "print(iris.head())\n",
    "print(iris.shape)"
   ]
  },
  {
   "cell_type": "markdown",
   "metadata": {},
   "source": [
    "We see that the Iris dataset contains p = 5 features and the last column contains the labels. There are n = 150 observations."
   ]
  },
  {
   "cell_type": "code",
   "execution_count": 13,
   "metadata": {},
   "outputs": [
    {
     "name": "stdout",
     "output_type": "stream",
     "text": [
      "<class 'pandas.core.frame.DataFrame'>\n",
      "RangeIndex: 150 entries, 0 to 149\n",
      "Data columns (total 5 columns):\n",
      "sepal_length     150 non-null float64\n",
      " sepal_width     150 non-null float64\n",
      " petal_length    150 non-null float64\n",
      " petal_width     150 non-null float64\n",
      " type.           150 non-null object\n",
      "dtypes: float64(4), object(1)\n",
      "memory usage: 5.9+ KB\n",
      "None\n",
      "['Iris_setosa' 'Iris_versicolor' 'Iris_virginica']\n"
     ]
    }
   ],
   "source": [
    "print(iris.info())\n",
    "print(pd.unique(iris.iloc[:,-1]))"
   ]
  },
  {
   "cell_type": "markdown",
   "metadata": {},
   "source": [
    "The dataset is imported as a pandas dataframe. The numerical attributes are *sepal_length*, *sepal_width*, *petal_length* and *petal_width*. The categorical level is *type* and contains 3 levels: *Iris_setosa*, *Iris_versicolor* and *Iris_virginica*."
   ]
  },
  {
   "cell_type": "markdown",
   "metadata": {},
   "source": [
    "### Training phase:"
   ]
  },
  {
   "cell_type": "code",
   "execution_count": 14,
   "metadata": {},
   "outputs": [
    {
     "name": "stdout",
     "output_type": "stream",
     "text": [
      "[5.1 4.9 4.7 4.6 5.  5.4 4.4 4.8 4.3 5.8 5.7 5.2 5.5 4.5 5.3 7.  6.4 6.9\n",
      " 6.5 6.3 6.6 5.9 6.  6.1 5.6 6.7 6.2 6.8 7.1 7.6 7.3 7.2 7.7 7.4 7.9 3.5\n",
      " 3.  3.2 3.1 3.6 3.9 3.4 2.9 3.7 4.  4.4 3.8 3.3 4.1 4.2 2.3 2.8 2.4 2.7\n",
      " 2.  2.2 2.5 2.6 1.4 1.3 1.5 1.7 1.6 1.1 1.2 1.  1.9 4.7 4.5 4.9 4.  4.6\n",
      " 3.3 3.9 3.5 4.2 3.6 4.4 4.1 4.8 4.3 5.  3.8 3.7 5.1 3.  6.  5.9 5.6 5.8\n",
      " 6.6 6.3 6.1 5.3 5.5 6.7 6.9 5.7 6.4 5.4 5.2 0.2 0.4 0.3 0.1 0.5 0.6 1.4\n",
      " 1.5 1.3 1.6 1.  1.1 1.8 1.2 1.7 2.5 1.9 2.1 2.2 2.  2.4 2.3]\n"
     ]
    }
   ],
   "source": [
    "levels = return_levels(iris)\n",
    "print(levels)"
   ]
  },
  {
   "cell_type": "code",
   "execution_count": 19,
   "metadata": {},
   "outputs": [],
   "source": [
    "labels, train_set, test_set, split_dataset, pr, probas = train_discr(iris, 0.67)"
   ]
  },
  {
   "cell_type": "markdown",
   "metadata": {},
   "source": [
    "### Test phase:"
   ]
  },
  {
   "cell_type": "code",
   "execution_count": 20,
   "metadata": {},
   "outputs": [],
   "source": [
    "post = np.zeros((test_set.shape[0], len(labels)))\n",
    "for i in range(test_set.shape[0]):\n",
    "    post[i, :] = posterior_discr(test_set.iloc[i, :-1], pr, labels, probas)\n",
    "pred_class = predict_class_discr(post)"
   ]
  },
  {
   "cell_type": "code",
   "execution_count": 21,
   "metadata": {},
   "outputs": [
    {
     "name": "stdout",
     "output_type": "stream",
     "text": [
      "0.9333333333333333\n"
     ]
    }
   ],
   "source": [
    "print((post == 0).sum() / post.size)"
   ]
  },
  {
   "cell_type": "code",
   "execution_count": 22,
   "metadata": {},
   "outputs": [
    {
     "name": "stdout",
     "output_type": "stream",
     "text": [
      "Missclassification rate = 0.62\n",
      "   sepal_length   sepal_width   petal_length  petal_width        type.  \\\n",
      "0           5.1           3.5            1.4          0.2  Iris_setosa   \n",
      "4           5.0           3.6            1.4          0.2  Iris_setosa   \n",
      "5           5.4           3.9            1.7          0.4  Iris_setosa   \n",
      "7           5.0           3.4            1.5          0.2  Iris_setosa   \n",
      "8           4.4           2.9            1.4          0.2  Iris_setosa   \n",
      "\n",
      "  predicted_class  \n",
      "0     Iris_setosa  \n",
      "4     Iris_setosa  \n",
      "5     Iris_setosa  \n",
      "7     Iris_setosa  \n",
      "8     Iris_setosa  \n"
     ]
    }
   ],
   "source": [
    "test_set_pred = test_set.assign(predicted_class = pred_class)\n",
    "test_set_pred = test_set_pred.replace(0, 'Iris_setosa')\n",
    "test_set_pred = test_set_pred.replace(1, 'Iris_versicolor')\n",
    "test_set_pred = test_set_pred.replace(2, 'Iris_virginica')\n",
    "missclass_rate = (test_set_pred.iloc[:,4] != test_set_pred.iloc[:,5]).sum() / test_set_pred.shape[0]\n",
    "print('Missclassification rate = {}'.format(missclass_rate))\n",
    "print(test_set_pred.head())"
   ]
  },
  {
   "cell_type": "markdown",
   "metadata": {},
   "source": [
    "We see that this method misclassifies roughly half of the test data. This is due to the fact that for some test set observations, the training set doesn't contain any similar \"level\" and thus the conditional probability is estimated to be 0 since there only needs to be one null element in the product to set the conditional probability to 0. We see that around 90% of the posterior probabilities are estimated to be 0. This behaviour is amplified by the small size of the dataset. One remedy would be to increase the available training data when possible. In the next part, we treat the data as being continuous and normally distributed."
   ]
  },
  {
   "cell_type": "markdown",
   "metadata": {},
   "source": [
    "## Training phase:\n",
    "We start by identifying the labels of the data using the *return_labels* function. We then construct training and test sets by randomely sampling the original *Iris* dataset into a training set (2/3) and a test set (1/3) with the *split_data_random* function. We then compute the conditional mean $\\mu(x_p|class_i)$ and conditional variance $\\sigma^2(x_p|class_i)$ of each feature on the training set for each class (*split_by_class* and *mean_var_by_class* functions) and compute the prior probabilities (*prior* function). "
   ]
  },
  {
   "cell_type": "code",
   "execution_count": 23,
   "metadata": {},
   "outputs": [],
   "source": [
    "labels, train_set, test_set, split_dataset, mean, var, pr = train_cont(iris, 0.67)"
   ]
  },
  {
   "cell_type": "markdown",
   "metadata": {},
   "source": [
    "## Test phase:"
   ]
  },
  {
   "cell_type": "markdown",
   "metadata": {},
   "source": [
    "We then compute the posterior probabilities of observing a class given the data $P(class|x)$ which is proportional to $P(x|class_i)*P(class_i)$. The conditional probability can be obtained by assuming that the attributes are conditionally independent (hence the Naive Bayes name): $P(x|class) = \\prod_{i=1}^{p} P(x_{i}|class)$ which is the likelihood (the joint density factors to the product of the marginals when the data is assumed independent). Since we have computed the priors and conditional probabilites, we can then obtain the posterior probability by $Posterior = (likelihood*prior)/P(x)$. But since $P(x)$ is just a scaling factor, we can discard it and only compute the numerator. We use the test set data (removing the labels) to compute the posteriors:"
   ]
  },
  {
   "cell_type": "code",
   "execution_count": 24,
   "metadata": {},
   "outputs": [],
   "source": [
    "post = np.zeros((test_set.shape[0], len(labels)))\n",
    "for i in range(test_set.shape[0]):\n",
    "    post[i, :] = posterior_cont(test_set.iloc[i,:-1], pr, mean, var, labels)"
   ]
  },
  {
   "cell_type": "markdown",
   "metadata": {},
   "source": [
    "We can then compute the predicted class (Maximum a Posteriori) using the *predict_class_cont* function. This function computes the most likely class as the maximum posterior probability:"
   ]
  },
  {
   "cell_type": "code",
   "execution_count": 25,
   "metadata": {},
   "outputs": [
    {
     "name": "stdout",
     "output_type": "stream",
     "text": [
      "[0 0 0 0 0 0 0 0 0 0 0 0 0 0 0 0 0 0 0 0 1 1 1 1 1 1 1 1 1 1 1 1 1 1 1 2 2\n",
      " 1 2 2 2 2 2 2 2 2 2 2 2 2]\n"
     ]
    }
   ],
   "source": [
    "pred_class = predict_class_cont(post)\n",
    "print(pred_class)"
   ]
  },
  {
   "cell_type": "markdown",
   "metadata": {},
   "source": [
    "Here the classes are coded numerically (0: *Iris_setosa*, 1: *Iris_versicolor*, 2: *Iris_virginica*)"
   ]
  },
  {
   "cell_type": "markdown",
   "metadata": {},
   "source": [
    "We can now compare our predictions to the original labels of the test set and compute the missclassification rate. This rate varies between 2% and 10% as the training data is selected randomely:"
   ]
  },
  {
   "cell_type": "code",
   "execution_count": 26,
   "metadata": {},
   "outputs": [
    {
     "name": "stdout",
     "output_type": "stream",
     "text": [
      "Missclassification rate = 0.02\n",
      "    sepal_length   sepal_width   petal_length  petal_width        type.  \\\n",
      "1            4.9           3.0            1.4          0.2  Iris_setosa   \n",
      "3            4.6           3.1            1.5          0.2  Iris_setosa   \n",
      "4            5.0           3.6            1.4          0.2  Iris_setosa   \n",
      "7            5.0           3.4            1.5          0.2  Iris_setosa   \n",
      "10           5.4           3.7            1.5          0.2  Iris_setosa   \n",
      "\n",
      "   predicted_class  \n",
      "1      Iris_setosa  \n",
      "3      Iris_setosa  \n",
      "4      Iris_setosa  \n",
      "7      Iris_setosa  \n",
      "10     Iris_setosa  \n"
     ]
    }
   ],
   "source": [
    "test_set_pred = test_set.assign(predicted_class = pred_class)\n",
    "test_set_pred = test_set_pred.replace(0, 'Iris_setosa')\n",
    "test_set_pred = test_set_pred.replace(1, 'Iris_versicolor')\n",
    "test_set_pred = test_set_pred.replace(2, 'Iris_virginica')\n",
    "missclass_rate = (test_set_pred.iloc[:,4] != test_set_pred.iloc[:,5]).sum() / test_set_pred.shape[0]\n",
    "print('Missclassification rate = {}'.format(missclass_rate))\n",
    "print(test_set_pred.head())"
   ]
  },
  {
   "cell_type": "markdown",
   "metadata": {},
   "source": [
    "We can now visualize the classification for two features. We see that the misclassified points are indeed rare."
   ]
  },
  {
   "cell_type": "code",
   "execution_count": 27,
   "metadata": {},
   "outputs": [],
   "source": [
    "import matplotlib.pyplot as plt\n",
    "from matplotlib.pyplot import figure"
   ]
  },
  {
   "cell_type": "code",
   "execution_count": 28,
   "metadata": {},
   "outputs": [
    {
     "data": {
      "image/png": "[encoded data removed]",
      "text/plain": [
       "<Figure size 640x480 with 1 Axes>"
      ]
     },
     "metadata": {},
     "output_type": "display_data"
    }
   ],
   "source": [
    "colors_iris = iris.iloc[:,-1].copy()\n",
    "colors_iris.loc[colors_iris == \"Iris_setosa\"] = \"r\"\n",
    "colors_iris.loc[colors_iris == \"Iris_versicolor\"] = \"g\"\n",
    "colors_iris.loc[colors_iris == \"Iris_virginica\"] = \"b\"\n",
    "colors_test = test_set_pred.iloc[:,-1].copy()\n",
    "colors_test.loc[colors_test == \"Iris_setosa\"] = \"r\"\n",
    "colors_test.loc[colors_test == \"Iris_versicolor\"] = \"g\"\n",
    "colors_test.loc[colors_test == \"Iris_virginica\"] = \"b\"\n",
    "figure(num=None, figsize=(8, 6), dpi=80, facecolor='w', edgecolor='k')\n",
    "ax = plt.subplot(1, 1, 1)\n",
    "ax.scatter(iris.iloc[:,0], iris.iloc[:,1],color=colors_iris)\n",
    "ax.scatter(test_set.iloc[:,0], test_set.iloc[:,1], color=colors_test, marker=\"+\", s=150)\n",
    "ax.legend(labels=[\"Training set data\", \"Test set predictions\"])\n",
    "plt.xlabel('sepal_length')\n",
    "plt.ylabel('sepal_width')\n",
    "plt.show()"
   ]
  },
  {
   "cell_type": "markdown",
   "metadata": {},
   "source": [
    "## Plotting the decision surfaces:"
   ]
  },
  {
   "cell_type": "markdown",
   "metadata": {},
   "source": [
    "We will use the features *sepal_length* and *sepal_width* for visualization purposes. To plot the decision boundaries, we first need to compute a grid with all possible combinations of *sepal_length* and *sepal_width* and evaluate our prediction function on this grid. We can then color the regions where the predicted class is the same to visualize the decision boundaries."
   ]
  },
  {
   "cell_type": "markdown",
   "metadata": {},
   "source": [
    "### Iris dataset: discrete case"
   ]
  },
  {
   "cell_type": "code",
   "execution_count": 29,
   "metadata": {},
   "outputs": [],
   "source": [
    "def grid(xRange, yRange, step):\n",
    "    \"\"\" Function to construct an artificial test set which cover the whole planen,  given  a range (xRange, yRange) and with the given precision (step). \"\"\" \n",
    "\n",
    "    # Create meshgrid\n",
    "    x = np.arange(xRange[0], xRange[1], step)\n",
    "    y = np.arange(yRange[0], yRange[1], step)\n",
    "    X, Y = np.meshgrid(x, y)\n",
    "\n",
    "    return X, Y"
   ]
  },
  {
   "cell_type": "code",
   "execution_count": 30,
   "metadata": {},
   "outputs": [
    {
     "name": "stdout",
     "output_type": "stream",
     "text": [
      "[4.3, 7.9]\n",
      "[2.0, 4.4]\n"
     ]
    }
   ],
   "source": [
    "sepal_length_range = [iris.iloc[:,0].min(), iris.iloc[:,0].max()]\n",
    "sepal_width_range = [iris.iloc[:,1].min(), iris.iloc[:,1].max()]\n",
    "print(sepal_length_range)\n",
    "print(sepal_width_range)"
   ]
  },
  {
   "cell_type": "code",
   "execution_count": 52,
   "metadata": {},
   "outputs": [],
   "source": [
    "X, Y = grid(sepal_length_range, sepal_width_range, 0.1)\n",
    "values = pd.DataFrame(np.column_stack((np.hstack(X), np.hstack(Y))))"
   ]
  },
  {
   "cell_type": "markdown",
   "metadata": {},
   "source": [
    "We train the model on the entire *Iris* dataset this time:"
   ]
  },
  {
   "cell_type": "code",
   "execution_count": 53,
   "metadata": {},
   "outputs": [],
   "source": [
    "labels, train_set, test_set, split_dataset, pr, probas = train_discr(iris, 0.67)"
   ]
  },
  {
   "cell_type": "code",
   "execution_count": 54,
   "metadata": {},
   "outputs": [],
   "source": [
    "post = np.zeros((values.shape[0], len(labels)))\n",
    "for i in range(values.shape[0]):\n",
    "    post[i, :] = posterior_discr(values.iloc[i,:], pr, labels, probas)\n",
    "pred_class = predict_class_discr(post)"
   ]
  },
  {
   "cell_type": "code",
   "execution_count": 55,
   "metadata": {},
   "outputs": [
    {
     "data": {
      "image/png": "[encoded data removed]",
      "text/plain": [
       "<Figure size 432x288 with 2 Axes>"
      ]
     },
     "metadata": {
      "needs_background": "light"
     },
     "output_type": "display_data"
    }
   ],
   "source": [
    "pred_class = np.reshape(pred_class, (X.shape[0], X.shape[1]))\n",
    "plt.contourf(X,Y,pred_class)\n",
    "plt.colorbar()\n",
    "plt.show()"
   ]
  },
  {
   "cell_type": "markdown",
   "metadata": {},
   "source": [
    "The same problem of class prediction as when the *Iris* data is considered as discrete arises here, since the discretized NB sets many posteriors to 0 and thus classifies most points as having probability 0. The contour plot shows that almost all grid points are classified as 0 (Iris_setosa)."
   ]
  },
  {
   "cell_type": "markdown",
   "metadata": {},
   "source": [
    "### Iris dataset: continuous case"
   ]
  },
  {
   "cell_type": "code",
   "execution_count": 45,
   "metadata": {},
   "outputs": [],
   "source": [
    "mean, var = mean_var_by_class(iris, labels)\n",
    "mean = mean[:,:2]\n",
    "var = var[:,:2]"
   ]
  },
  {
   "cell_type": "code",
   "execution_count": 46,
   "metadata": {},
   "outputs": [],
   "source": [
    "post = np.zeros((values.shape[0], len(labels)))\n",
    "for i in range(values.shape[0]):\n",
    "    post[i, :] = posterior_cont(values.iloc[i,:], pr, mean, var, labels)\n",
    "pred_class = predict_class_cont(post)"
   ]
  },
  {
   "cell_type": "code",
   "execution_count": 50,
   "metadata": {},
   "outputs": [
    {
     "data": {
      "image/png": "[encoded data removed]",
      "text/plain": [
       "<Figure size 432x288 with 2 Axes>"
      ]
     },
     "metadata": {
      "needs_background": "light"
     },
     "output_type": "display_data"
    }
   ],
   "source": [
    "pred_class = np.reshape(pred_class, (X.shape[0], X.shape[1]))\n",
    "plt.contourf(X,Y,pred_class)\n",
    "plt.colorbar()\n",
    "plt.show()"
   ]
  },
  {
   "cell_type": "markdown",
   "metadata": {},
   "source": [
    "We see that this method has piece-wise (almost) linear boudaries. "
   ]
  },
  {
   "cell_type": "markdown",
   "metadata": {},
   "source": [
    "## Remarks:"
   ]
  },
  {
   "cell_type": "markdown",
   "metadata": {},
   "source": [
    "We started by assuming the *Iris* data was normally distributed and the features conditionally independent. The below plots show the histograms of the iris data by feature. We clearly see that the normality assumption is not very good (apart for *sepal width*). However, the classifier performs well even though one might question this assumption. Furthermore, although the independence assumption simplifies the posterior computation, one might wonder whether the length of a petal is really independent from it's width?\n",
    "\n",
    "**Bins for IRIS**"
   ]
  },
  {
   "cell_type": "code",
   "execution_count": 56,
   "metadata": {},
   "outputs": [
    {
     "data": {
      "text/plain": [
       "array([[<matplotlib.axes._subplots.AxesSubplot object at 0x11520f6d8>,\n",
       "        <matplotlib.axes._subplots.AxesSubplot object at 0x1153bdf28>],\n",
       "       [<matplotlib.axes._subplots.AxesSubplot object at 0x115b1b5f8>,\n",
       "        <matplotlib.axes._subplots.AxesSubplot object at 0x1158e1c88>]],\n",
       "      dtype=object)"
      ]
     },
     "execution_count": 56,
     "metadata": {},
     "output_type": "execute_result"
    },
    {
     "data": {
      "image/png": "[encoded data removed]",
      "text/plain": [
       "<Figure size 432x288 with 4 Axes>"
      ]
     },
     "metadata": {
      "needs_background": "light"
     },
     "output_type": "display_data"
    }
   ],
   "source": [
    "iris.hist(bins=20)"
   ]
  },
  {
   "cell_type": "markdown",
   "metadata": {},
   "source": [
    "## Conclusion:"
   ]
  },
  {
   "cell_type": "markdown",
   "metadata": {},
   "source": [
    "In conclusion, the implementation of the NB classifier on discrete and continuous data has given mixed results. The classifier works best on continuous data that is assumed normally distributed and whose features are independent (although these assumptions are a bit simplistic). The misclassification rate is around 30-40% for the *Titanic* dataset (discrete), around 60% for the *Iris* dataset (discrete) and less than 10% for *Iris* (continuous). This method has shown to be sensitive to priors, in the sense that a training set containing over-represented classes will strongly bias the predictions towards these classes. One must thus ensure adequate measures for the random sampling of the entire dataset to construct a training set. The discrete *Iris* dataset showed that discretization can produce bad results if not undertaken appropriately. In the case of a small dataset, some test set features will be assigned probability 0 if the training set doesn't contain the same values and will result in a high missclassification rate. One might think about placing the observations into bins as an extension of this technique to deal with this issue. Finally, the NB classifier produced the best results on the *Iris* dataset when the features were assumed independent and normally distributed. Even though these assumptions don't always hold, one can consider alternative parametric distributions or implement non-parametric estimation methods to increase classification accuracy.\n",
    "\n",
    "The decision boundary results are in line with the previous comments, with the best results coming from the continuous *Iris* data. The boundaries are estimated to be piece-wise linear."
   ]
  }
 ],
 "metadata": {
  "kernelspec": {
   "display_name": "Python 3",
   "language": "python",
   "name": "python3"
  },
  "language_info": {
   "codemirror_mode": {
    "name": "ipython",
    "version": 3
   },
   "file_extension": ".py",
   "mimetype": "text/x-python",
   "name": "python",
   "nbconvert_exporter": "python",
   "pygments_lexer": "ipython3",
   "version": "3.6.0"
  }
 },
 "nbformat": 4,
 "nbformat_minor": 2
}
