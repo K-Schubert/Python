{
 "cells": [
  {
   "cell_type": "code",
   "execution_count": 1,
   "metadata": {},
   "outputs": [
    {
     "name": "stdout",
     "output_type": "stream",
     "text": [
      "/Users/kieranschubert/Desktop/BTK/btk_mac_os/Individual_patients\n"
     ]
    }
   ],
   "source": [
    "%cd /Users/kieranschubert/Desktop/BTK/btk_mac_os/Individual_patients"
   ]
  },
  {
   "cell_type": "markdown",
   "metadata": {},
   "source": [
    "# DATA IMPORTATION AND FORMATTING"
   ]
  },
  {
   "cell_type": "code",
   "execution_count": 2,
   "metadata": {},
   "outputs": [],
   "source": [
    "import matplotlib.pyplot as plt\n",
    "\n",
    "from sklearn.model_selection import train_test_split \n",
    "from sklearn import preprocessing\n",
    "#from sklearn.preprocessing import StandardScaler, MinMaxScaler\n",
    "from sklearn.neighbors import KNeighborsClassifier  \n",
    "from sklearn.metrics import classification_report, confusion_matrix  \n",
    "\n",
    "from __future__ import division\n",
    "from sklearn.naive_bayes import GaussianNB\n",
    "\n",
    "from sklearn.linear_model import LogisticRegression\n",
    "from sklearn import svm\n",
    "from sklearn.discriminant_analysis import LinearDiscriminantAnalysis\n",
    "from sklearn.discriminant_analysis import QuadraticDiscriminantAnalysis\n",
    "from sklearn.model_selection import cross_val_score\n",
    "\n",
    "import pandas as pd\n",
    "import numpy as np\n",
    "\n",
    "import seaborn as sns"
   ]
  },
  {
   "cell_type": "code",
   "execution_count": 3,
   "metadata": {},
   "outputs": [
    {
     "name": "stderr",
     "output_type": "stream",
     "text": [
      "Using TensorFlow backend.\n"
     ]
    }
   ],
   "source": [
    "import keras\n",
    "from keras.models import Sequential\n",
    "from keras.layers import Dense, Dropout\n",
    "from keras.optimizers import SGD\n",
    "from keras.wrappers.scikit_learn import KerasClassifier\n",
    "from keras.utils import np_utils\n",
    "from sklearn.model_selection import cross_val_score\n",
    "from sklearn.model_selection import KFold\n",
    "from sklearn.preprocessing import LabelEncoder\n",
    "from sklearn.pipeline import Pipeline\n",
    "from keras.regularizers import l2\n",
    "from sklearn.preprocessing import MinMaxScaler\n",
    "from keras.utils import plot_model"
   ]
  },
  {
   "cell_type": "code",
   "execution_count": 4,
   "metadata": {},
   "outputs": [],
   "source": [
    "cp = pd.read_csv(\"CP_merged.csv\")\n",
    "fd = pd.read_csv(\"FD_merged.csv\")\n",
    "itw = pd.read_csv(\"ITW_merged.csv\")"
   ]
  },
  {
   "cell_type": "code",
   "execution_count": null,
   "metadata": {},
   "outputs": [],
   "source": [
    "print(cp.shape)\n",
    "print(fd.shape)\n",
    "print(itw.shape)"
   ]
  },
  {
   "cell_type": "code",
   "execution_count": 5,
   "metadata": {},
   "outputs": [
    {
     "name": "stdout",
     "output_type": "stream",
     "text": [
      "(12140, 101)\n",
      "(6319, 101)\n",
      "(4993, 101)\n"
     ]
    }
   ],
   "source": [
    "cp = cp.dropna(axis=0, how='any')\n",
    "fd = fd.dropna(axis=0, how='any')\n",
    "itw = itw.dropna(axis=0, how='any')\n",
    "print(cp.shape)\n",
    "print(fd.shape)\n",
    "print(itw.shape)"
   ]
  },
  {
   "cell_type": "markdown",
   "metadata": {},
   "source": [
    "### Unique labels"
   ]
  },
  {
   "cell_type": "code",
   "execution_count": 6,
   "metadata": {},
   "outputs": [],
   "source": [
    "fd = fd.replace('Foot_Off_GS_Right', 'Foot Off_Right')"
   ]
  },
  {
   "cell_type": "code",
   "execution_count": 7,
   "metadata": {},
   "outputs": [
    {
     "name": "stdout",
     "output_type": "stream",
     "text": [
      "(23452, 101)\n"
     ]
    }
   ],
   "source": [
    "data = pd.DataFrame(np.vstack((cp, fd, itw)), columns=list(cp.columns.values))\n",
    "print(data.shape)"
   ]
  },
  {
   "cell_type": "code",
   "execution_count": null,
   "metadata": {},
   "outputs": [],
   "source": [
    "print(np.unique(cp.iloc[:, -1]))\n",
    "print(np.unique(fd.iloc[:, -1]))\n",
    "print(np.unique(itw.iloc[:, -1]))"
   ]
  },
  {
   "cell_type": "code",
   "execution_count": 8,
   "metadata": {},
   "outputs": [],
   "source": [
    "data = data.replace('0_0', 0)\n",
    "data = data.replace('Foot Off_Left', 1)\n",
    "data = data.replace('Foot Off_Right', 2)\n",
    "data = data.replace('Foot Strike_Left', 3)\n",
    "data = data.replace('Foot Strike_Right', 4)"
   ]
  },
  {
   "cell_type": "code",
   "execution_count": 9,
   "metadata": {},
   "outputs": [
    {
     "name": "stdout",
     "output_type": "stream",
     "text": [
      "[0 1 2 3 4]\n"
     ]
    }
   ],
   "source": [
    "print(np.unique(data.iloc[:, -1]))"
   ]
  },
  {
   "cell_type": "markdown",
   "metadata": {},
   "source": [
    "### Features"
   ]
  },
  {
   "cell_type": "code",
   "execution_count": null,
   "metadata": {},
   "outputs": [],
   "source": [
    "list(cp.columns.values)[:5]"
   ]
  },
  {
   "cell_type": "markdown",
   "metadata": {},
   "source": [
    "# EDA"
   ]
  },
  {
   "cell_type": "code",
   "execution_count": null,
   "metadata": {},
   "outputs": [],
   "source": [
    "names = list(lag_2.columns) + list(X_subset.columns[1:-1])\n",
    "mat = pd.DataFrame(np.hstack((lag_2, data[list(X_subset.columns[1:-1])])),\n",
    "                  columns=names)\n",
    "mat_lag2 = mat.corr().iloc[:12, 12:]\n",
    "\n",
    "plt.imshow(mat_lag2, cmap=plt.cm.Reds, interpolation='nearest')\n",
    "plt.colorbar()\n",
    "tick_marks = [i for i in range(len(mat_lag2.columns))]\n",
    "plt.xticks(tick_marks, mat_lag2.columns, rotation='vertical')\n",
    "plt.yticks(tick_marks, list(mat_lag2.index))\n",
    "plt.title('lag-2 correlation')\n",
    "plt.savefig('/Users/kieranschubert/Desktop/BTK/btk_mac_os/figures/lag2_corr.png')\n",
    "plt.show()"
   ]
  },
  {
   "cell_type": "code",
   "execution_count": null,
   "metadata": {},
   "outputs": [],
   "source": [
    "correl.head()"
   ]
  },
  {
   "cell_type": "code",
   "execution_count": null,
   "metadata": {},
   "outputs": [],
   "source": [
    "correl = data.iloc[:, 1:34].corr()\n",
    "plt.imshow(correl, cmap=plt.cm.Reds, interpolation='nearest')\n",
    "plt.colorbar()\n",
    "tick_marks = [i for i in range(len(correl.columns))]\n",
    "plt.xticks(tick_marks, correl.columns, rotation='vertical')\n",
    "plt.yticks(tick_marks, correl.columns)\n",
    "plt.title('Predictor correlation (x)')\n",
    "plt.savefig('/Users/kieranschubert/Desktop/BTK/btk_mac_os/figures/data_corr_x.png')\n",
    "plt.show()"
   ]
  },
  {
   "cell_type": "code",
   "execution_count": null,
   "metadata": {},
   "outputs": [],
   "source": [
    "correl = data.iloc[:, 34:67].corr()\n",
    "plt.imshow(correl, cmap=plt.cm.Reds, interpolation='nearest')\n",
    "plt.colorbar()\n",
    "tick_marks = [i for i in range(len(correl.columns))]\n",
    "plt.xticks(tick_marks, correl.columns, rotation='vertical')\n",
    "plt.yticks(tick_marks, correl.columns)\n",
    "plt.title('Predictor correlation (y)')\n",
    "plt.savefig('/Users/kieranschubert/Desktop/BTK/btk_mac_os/figures/data_corr_y.png')\n",
    "plt.show()"
   ]
  },
  {
   "cell_type": "code",
   "execution_count": null,
   "metadata": {},
   "outputs": [],
   "source": [
    "correl = data.iloc[:, 67:-1].corr()\n",
    "plt.imshow(correl, cmap=plt.cm.Reds, interpolation='nearest')\n",
    "plt.colorbar()\n",
    "tick_marks = [i for i in range(len(correl.columns))]\n",
    "plt.xticks(tick_marks, correl.columns, rotation='vertical')\n",
    "plt.yticks(tick_marks, correl.columns)\n",
    "plt.title('Predictor correlation (z)')\n",
    "plt.savefig('/Users/kieranschubert/Desktop/BTK/btk_mac_os/figures/data_corr_z.png')\n",
    "plt.show()"
   ]
  },
  {
   "cell_type": "code",
   "execution_count": null,
   "metadata": {},
   "outputs": [],
   "source": [
    "cond_corr = data.iloc[:,1:].groupby(by='labels').get_group(0).corr()"
   ]
  },
  {
   "cell_type": "code",
   "execution_count": null,
   "metadata": {},
   "outputs": [],
   "source": []
  },
  {
   "cell_type": "code",
   "execution_count": null,
   "metadata": {},
   "outputs": [],
   "source": []
  },
  {
   "cell_type": "code",
   "execution_count": null,
   "metadata": {},
   "outputs": [],
   "source": [
    "print((data.iloc[:,-1] == 0).sum())\n",
    "print((data.iloc[:,-1] == 1).sum())\n",
    "print((data.iloc[:,-1] == 2).sum())\n",
    "print((data.iloc[:,-1] == 3).sum())\n",
    "print((data.iloc[:,-1] == 4).sum())"
   ]
  },
  {
   "cell_type": "code",
   "execution_count": null,
   "metadata": {},
   "outputs": [],
   "source": [
    "(data.iloc[:,-1] != 0).sum() / len(data.iloc[:,-1])"
   ]
  },
  {
   "cell_type": "code",
   "execution_count": null,
   "metadata": {},
   "outputs": [],
   "source": [
    "plt.hist(data.iloc[:,-1])\n",
    "plt.title('Label Distribution')    \n",
    "plt.savefig('/Users/kieranschubert/Desktop/BTK/btk_mac_os/figures/label_distribution.png')\n",
    "plt.show()"
   ]
  },
  {
   "cell_type": "code",
   "execution_count": null,
   "metadata": {},
   "outputs": [],
   "source": [
    "for i in range(1, 100):\n",
    "    sns.kdeplot(np.array(data.iloc[:,i]), bw=0.5)\n",
    "plt.title('Predictor Densities')    \n",
    "plt.savefig('/Users/kieranschubert/Desktop/BTK/btk_mac_os/figures/predictor_densities.png')"
   ]
  },
  {
   "cell_type": "code",
   "execution_count": null,
   "metadata": {},
   "outputs": [],
   "source": [
    "plt.hist(np.mean(data.iloc[:, 1:], axis=0), bins=len(data.columns))\n",
    "plt.title('Predictor Means')\n",
    "plt.xlabel('Mean')\n",
    "plt.ylabel('Count')\n",
    "plt.savefig('/Users/kieranschubert/Desktop/BTK/btk_mac_os/figures/predictor_means.png')\n",
    "plt.show()"
   ]
  },
  {
   "cell_type": "code",
   "execution_count": null,
   "metadata": {},
   "outputs": [],
   "source": [
    "plt.hist(np.std(data.iloc[:, 1:], axis=0), bins=len(data.columns))\n",
    "plt.title('Predictor std dev')\n",
    "plt.xlabel('Std dev')\n",
    "plt.ylabel('Count')\n",
    "plt.savefig('/Users/kieranschubert/Desktop/BTK/btk_mac_os/figures/predictor_std.png')\n",
    "plt.show()"
   ]
  },
  {
   "cell_type": "markdown",
   "metadata": {},
   "source": [
    "# DATA SPLITTING"
   ]
  },
  {
   "cell_type": "code",
   "execution_count": 10,
   "metadata": {},
   "outputs": [],
   "source": [
    "X_train, X_test, y_train, y_test = train_test_split(\n",
    "    data.iloc[:, 1:-1], data.iloc[:,-1], test_size=0.2, random_state=0, stratify=data.iloc[:,-1])\n",
    "\n",
    "X_train_scaled = preprocessing.scale(X_train)\n",
    "X_test_scaled = preprocessing.scale(X_test)"
   ]
  },
  {
   "cell_type": "markdown",
   "metadata": {},
   "source": [
    "# Modelling"
   ]
  },
  {
   "cell_type": "markdown",
   "metadata": {},
   "source": [
    "## NAIVE BAYES CLASSIFIER FULL DATASET"
   ]
  },
  {
   "cell_type": "code",
   "execution_count": 11,
   "metadata": {},
   "outputs": [
    {
     "name": "stdout",
     "output_type": "stream",
     "text": [
      "Classification accuracy GNB: 0.60\n"
     ]
    }
   ],
   "source": [
    "clf_gnb = GaussianNB()\n",
    "y_pred_gnb = clf_gnb.fit(X_train_scaled, y_train).predict(X_test_scaled)\n",
    "gnb_acc = (y_pred_gnb == y_test).sum()/len(y_pred_gnb)\n",
    "print(\"Classification accuracy GNB: %.2f\" % gnb_acc)"
   ]
  },
  {
   "cell_type": "code",
   "execution_count": 12,
   "metadata": {},
   "outputs": [
    {
     "data": {
      "text/plain": [
       "1827"
      ]
     },
     "execution_count": 12,
     "metadata": {},
     "output_type": "execute_result"
    }
   ],
   "source": [
    "(y_pred_gnb != 0).sum()"
   ]
  },
  {
   "cell_type": "code",
   "execution_count": 13,
   "metadata": {},
   "outputs": [
    {
     "data": {
      "text/plain": [
       "183"
      ]
     },
     "execution_count": 13,
     "metadata": {},
     "output_type": "execute_result"
    }
   ],
   "source": [
    "(y_test != 0).sum()"
   ]
  },
  {
   "cell_type": "code",
   "execution_count": 14,
   "metadata": {},
   "outputs": [
    {
     "data": {
      "text/plain": [
       "9.98360655737705"
      ]
     },
     "execution_count": 14,
     "metadata": {},
     "output_type": "execute_result"
    }
   ],
   "source": [
    "(y_pred_gnb != 0).sum() / (y_test != 0).sum()"
   ]
  },
  {
   "cell_type": "code",
   "execution_count": 15,
   "metadata": {},
   "outputs": [
    {
     "data": {
      "text/plain": [
       "0.022441160372194856"
      ]
     },
     "execution_count": 15,
     "metadata": {},
     "output_type": "execute_result"
    }
   ],
   "source": [
    "(y_pred_gnb[np.where(y_pred_gnb != 0)] == y_test.iloc[np.where(y_pred_gnb != 0)]).sum() / len((y_pred_gnb[np.where(y_pred_gnb != 0)]))"
   ]
  },
  {
   "cell_type": "markdown",
   "metadata": {},
   "source": [
    "# kNN"
   ]
  },
  {
   "cell_type": "code",
   "execution_count": 16,
   "metadata": {},
   "outputs": [
    {
     "name": "stdout",
     "output_type": "stream",
     "text": [
      "Classification accuracy kNN: 0.96\n"
     ]
    }
   ],
   "source": [
    "#scaler = StandardScaler()  \n",
    "#X_train_scaled = scaler.fit_transform(X_train)  \n",
    "#X_test_scaled = scaler.fit_transform(X_test)\n",
    "\n",
    "clf_knn = KNeighborsClassifier(n_neighbors=5)  \n",
    "y_pred_knn = clf_knn.fit(X_train_scaled, y_train).predict(X_test_scaled)  \n",
    "\n",
    "knn_acc = (y_pred_knn == y_test).sum()/len(y_pred_knn)\n",
    "print(\"Classification accuracy kNN: %.2f\" % knn_acc)\n",
    "\n",
    "#print(confusion_matrix(y_test, y_pred_knn))  \n",
    "#print(classification_report(y_test, y_pred_knn)) "
   ]
  },
  {
   "cell_type": "code",
   "execution_count": 17,
   "metadata": {},
   "outputs": [
    {
     "data": {
      "text/plain": [
       "0"
      ]
     },
     "execution_count": 17,
     "metadata": {},
     "output_type": "execute_result"
    }
   ],
   "source": [
    "(y_pred_knn != 0).sum()"
   ]
  },
  {
   "cell_type": "code",
   "execution_count": 18,
   "metadata": {},
   "outputs": [
    {
     "data": {
      "text/plain": [
       "0.0"
      ]
     },
     "execution_count": 18,
     "metadata": {},
     "output_type": "execute_result"
    }
   ],
   "source": [
    "(y_pred_knn != 0).sum() / (y_test != 0).sum()"
   ]
  },
  {
   "cell_type": "code",
   "execution_count": 19,
   "metadata": {},
   "outputs": [
    {
     "name": "stderr",
     "output_type": "stream",
     "text": [
      "/usr/local/lib/python2.7/site-packages/ipykernel_launcher.py:1: RuntimeWarning: invalid value encountered in long_scalars\n",
      "  \"\"\"Entry point for launching an IPython kernel.\n"
     ]
    },
    {
     "data": {
      "text/plain": [
       "nan"
      ]
     },
     "execution_count": 19,
     "metadata": {},
     "output_type": "execute_result"
    }
   ],
   "source": [
    "(y_pred_knn[np.where(y_pred_knn != 0)] == y_test.iloc[np.where(y_pred_knn != 0)]).sum() / len((y_pred_knn[np.where(y_pred_knn != 0)]))"
   ]
  },
  {
   "cell_type": "markdown",
   "metadata": {},
   "source": [
    "# SOFTMAX CLASSIFICATION"
   ]
  },
  {
   "cell_type": "code",
   "execution_count": 20,
   "metadata": {},
   "outputs": [],
   "source": [
    "clf_mnr = LogisticRegression(random_state=0, solver='lbfgs', max_iter=1000000, multi_class='multinomial').fit(X_train_scaled, y_train)\n",
    "\n"
   ]
  },
  {
   "cell_type": "code",
   "execution_count": 21,
   "metadata": {},
   "outputs": [
    {
     "name": "stdout",
     "output_type": "stream",
     "text": [
      "Classification accuracy Multinomial Regression : 0.96\n"
     ]
    }
   ],
   "source": [
    "y_pred_mnr = clf_mnr.predict(X_test_scaled)\n",
    "mnr_acc = (y_pred_mnr == y_test).sum()/len(y_pred_mnr)\n",
    "print(\"Classification accuracy Multinomial Regression : %.2f\" % mnr_acc)"
   ]
  },
  {
   "cell_type": "code",
   "execution_count": 22,
   "metadata": {},
   "outputs": [
    {
     "data": {
      "text/plain": [
       "0"
      ]
     },
     "execution_count": 22,
     "metadata": {},
     "output_type": "execute_result"
    }
   ],
   "source": [
    "(y_pred_mnr != 0).sum()"
   ]
  },
  {
   "cell_type": "code",
   "execution_count": 23,
   "metadata": {},
   "outputs": [
    {
     "data": {
      "text/plain": [
       "0.0"
      ]
     },
     "execution_count": 23,
     "metadata": {},
     "output_type": "execute_result"
    }
   ],
   "source": [
    "(y_pred_mnr != 0).sum() / (y_test != 0).sum()"
   ]
  },
  {
   "cell_type": "code",
   "execution_count": 24,
   "metadata": {},
   "outputs": [
    {
     "name": "stderr",
     "output_type": "stream",
     "text": [
      "/usr/local/lib/python2.7/site-packages/ipykernel_launcher.py:1: RuntimeWarning: invalid value encountered in long_scalars\n",
      "  \"\"\"Entry point for launching an IPython kernel.\n"
     ]
    },
    {
     "data": {
      "text/plain": [
       "nan"
      ]
     },
     "execution_count": 24,
     "metadata": {},
     "output_type": "execute_result"
    }
   ],
   "source": [
    "(y_pred_mnr[np.where(y_pred_mnr != 0)] == y_test.iloc[np.where(y_pred_mnr != 0)]).sum() / len((y_pred_mnr[np.where(y_pred_mnr != 0)]))"
   ]
  },
  {
   "cell_type": "markdown",
   "metadata": {},
   "source": [
    "# SVM"
   ]
  },
  {
   "cell_type": "markdown",
   "metadata": {},
   "source": [
    "## DO rbf, linear, gaussian, poly, c param, gamma param, etc. => hyper-param tuning"
   ]
  },
  {
   "cell_type": "code",
   "execution_count": 25,
   "metadata": {},
   "outputs": [],
   "source": [
    "clf_svm = svm.SVC(gamma='scale', kernel='rbf', decision_function_shape='ovo')\n",
    "clf_svm.fit(X_train_scaled, y_train.values.ravel()) \n",
    "y_pred_svm = clf_svm.predict(X_test_scaled)"
   ]
  },
  {
   "cell_type": "code",
   "execution_count": 26,
   "metadata": {},
   "outputs": [
    {
     "name": "stdout",
     "output_type": "stream",
     "text": [
      "Classification accuracy SVM : 0.96\n"
     ]
    }
   ],
   "source": [
    "svm_acc = (y_pred_svm == y_test).sum()/len(y_pred_svm)\n",
    "print(\"Classification accuracy SVM : %.2f\" % svm_acc)"
   ]
  },
  {
   "cell_type": "code",
   "execution_count": 27,
   "metadata": {},
   "outputs": [
    {
     "data": {
      "text/plain": [
       "0"
      ]
     },
     "execution_count": 27,
     "metadata": {},
     "output_type": "execute_result"
    }
   ],
   "source": [
    "(y_pred_svm != 0).sum()"
   ]
  },
  {
   "cell_type": "code",
   "execution_count": 28,
   "metadata": {},
   "outputs": [
    {
     "data": {
      "text/plain": [
       "0.0"
      ]
     },
     "execution_count": 28,
     "metadata": {},
     "output_type": "execute_result"
    }
   ],
   "source": [
    "(y_pred_svm != 0).sum() / (y_test != 0).sum()"
   ]
  },
  {
   "cell_type": "code",
   "execution_count": 29,
   "metadata": {},
   "outputs": [
    {
     "name": "stderr",
     "output_type": "stream",
     "text": [
      "/usr/local/lib/python2.7/site-packages/ipykernel_launcher.py:1: RuntimeWarning: invalid value encountered in long_scalars\n",
      "  \"\"\"Entry point for launching an IPython kernel.\n"
     ]
    },
    {
     "data": {
      "text/plain": [
       "nan"
      ]
     },
     "execution_count": 29,
     "metadata": {},
     "output_type": "execute_result"
    }
   ],
   "source": [
    "(y_pred_svm[np.where(y_pred_svm != 0)] == y_test.iloc[np.where(y_pred_svm != 0)]).sum() / len((y_pred_svm[np.where(y_pred_svm != 0)]))"
   ]
  },
  {
   "cell_type": "markdown",
   "metadata": {},
   "source": [
    "# LDA"
   ]
  },
  {
   "cell_type": "code",
   "execution_count": 30,
   "metadata": {},
   "outputs": [],
   "source": [
    "clf_lda = LinearDiscriminantAnalysis()\n",
    "clf_lda.fit(X_train_scaled, y_train.values.ravel())  \n",
    "y_pred_lda = clf_lda.predict(X_test_scaled)"
   ]
  },
  {
   "cell_type": "code",
   "execution_count": 31,
   "metadata": {},
   "outputs": [
    {
     "name": "stdout",
     "output_type": "stream",
     "text": [
      "Classification accuracy LDA : 0.96\n"
     ]
    }
   ],
   "source": [
    "lda_acc = (y_pred_lda == y_test).sum()/len(y_pred_lda)\n",
    "print(\"Classification accuracy LDA : %.2f\" % lda_acc)"
   ]
  },
  {
   "cell_type": "code",
   "execution_count": 32,
   "metadata": {},
   "outputs": [
    {
     "data": {
      "text/plain": [
       "32"
      ]
     },
     "execution_count": 32,
     "metadata": {},
     "output_type": "execute_result"
    }
   ],
   "source": [
    "(y_pred_lda != 0).sum()"
   ]
  },
  {
   "cell_type": "code",
   "execution_count": 33,
   "metadata": {},
   "outputs": [
    {
     "data": {
      "text/plain": [
       "0.17486338797814208"
      ]
     },
     "execution_count": 33,
     "metadata": {},
     "output_type": "execute_result"
    }
   ],
   "source": [
    "(y_pred_lda != 0).sum() / (y_test != 0).sum()"
   ]
  },
  {
   "cell_type": "code",
   "execution_count": 34,
   "metadata": {},
   "outputs": [
    {
     "data": {
      "text/plain": [
       "0.09375"
      ]
     },
     "execution_count": 34,
     "metadata": {},
     "output_type": "execute_result"
    }
   ],
   "source": [
    "(y_pred_lda[np.where(y_pred_lda != 0)] == y_test.iloc[np.where(y_pred_lda != 0)]).sum() / len((y_pred_lda[np.where(y_pred_lda != 0)]))"
   ]
  },
  {
   "cell_type": "markdown",
   "metadata": {},
   "source": [
    "# QDA"
   ]
  },
  {
   "cell_type": "code",
   "execution_count": 35,
   "metadata": {},
   "outputs": [],
   "source": [
    "clf_qda = QuadraticDiscriminantAnalysis()\n",
    "clf_qda.fit(X_train_scaled, y_train)\n",
    "y_pred_qda = clf_qda.predict(X_test_scaled)"
   ]
  },
  {
   "cell_type": "code",
   "execution_count": 36,
   "metadata": {},
   "outputs": [
    {
     "name": "stdout",
     "output_type": "stream",
     "text": [
      "Classification accuracy LDA : 0.69\n"
     ]
    }
   ],
   "source": [
    "qda_acc = (y_pred_qda == y_test).sum()/len(y_pred_qda)\n",
    "print(\"Classification accuracy LDA : %.2f\" % qda_acc)"
   ]
  },
  {
   "cell_type": "code",
   "execution_count": 37,
   "metadata": {},
   "outputs": [
    {
     "data": {
      "text/plain": [
       "1359"
      ]
     },
     "execution_count": 37,
     "metadata": {},
     "output_type": "execute_result"
    }
   ],
   "source": [
    "(y_pred_qda != 0).sum()"
   ]
  },
  {
   "cell_type": "code",
   "execution_count": 38,
   "metadata": {},
   "outputs": [
    {
     "data": {
      "text/plain": [
       "7.426229508196721"
      ]
     },
     "execution_count": 38,
     "metadata": {},
     "output_type": "execute_result"
    }
   ],
   "source": [
    "(y_pred_qda != 0).sum() / (y_test != 0).sum()"
   ]
  },
  {
   "cell_type": "code",
   "execution_count": 39,
   "metadata": {},
   "outputs": [
    {
     "data": {
      "text/plain": [
       "0.01545253863134658"
      ]
     },
     "execution_count": 39,
     "metadata": {},
     "output_type": "execute_result"
    }
   ],
   "source": [
    "(y_pred_qda[np.where(y_pred_qda != 0)] == y_test.iloc[np.where(y_pred_qda != 0)]).sum() / len((y_pred_qda[np.where(y_pred_qda != 0)]))\n"
   ]
  },
  {
   "cell_type": "markdown",
   "metadata": {},
   "source": [
    "# NN model 1"
   ]
  },
  {
   "cell_type": "code",
   "execution_count": null,
   "metadata": {},
   "outputs": [],
   "source": [
    "#scaler = MinMaxScaler()\n",
    "#X_train_scaled = scaler.fit_transform(X_train)\n",
    "#X_test_scaled = scaler.fit_transform(X_test)"
   ]
  },
  {
   "cell_type": "code",
   "execution_count": 40,
   "metadata": {},
   "outputs": [],
   "source": [
    "y_train_onehot = keras.utils.to_categorical(y_train, num_classes=5)\n",
    "y_test_onehot = keras.utils.to_categorical(y_test, num_classes=5)"
   ]
  },
  {
   "cell_type": "code",
   "execution_count": 41,
   "metadata": {},
   "outputs": [
    {
     "name": "stdout",
     "output_type": "stream",
     "text": [
      "WARNING:tensorflow:From /usr/local/lib/python2.7/site-packages/tensorflow/python/framework/op_def_library.py:263: colocate_with (from tensorflow.python.framework.ops) is deprecated and will be removed in a future version.\n",
      "Instructions for updating:\n",
      "Colocations handled automatically by placer.\n"
     ]
    }
   ],
   "source": [
    "model1 = Sequential()\n",
    "model1.add(Dense(8, input_dim=99, activation='relu'))\n",
    "model1.add(Dense(5, activation='softmax'))\n",
    "\n",
    "sgd = SGD(lr=0.01, decay=1e-6, momentum=0.9, nesterov=False)\n",
    "model1.compile(loss='categorical_crossentropy', optimizer=sgd, metrics=['accuracy'])"
   ]
  },
  {
   "cell_type": "code",
   "execution_count": 42,
   "metadata": {},
   "outputs": [
    {
     "name": "stdout",
     "output_type": "stream",
     "text": [
      "WARNING:tensorflow:From /usr/local/lib/python2.7/site-packages/tensorflow/python/ops/math_ops.py:3066: to_int32 (from tensorflow.python.ops.math_ops) is deprecated and will be removed in a future version.\n",
      "Instructions for updating:\n",
      "Use tf.cast instead.\n"
     ]
    }
   ],
   "source": [
    "history = model1.fit(X_train_scaled, y_train_onehot, validation_split=0.25, epochs=100, batch_size=256, verbose=False)"
   ]
  },
  {
   "cell_type": "code",
   "execution_count": 43,
   "metadata": {},
   "outputs": [
    {
     "data": {
      "text/plain": [
       "0.9609891281176721"
      ]
     },
     "execution_count": 43,
     "metadata": {},
     "output_type": "execute_result"
    }
   ],
   "source": [
    "y_pred_NN1 = model1.predict_classes(X_test_scaled)\n",
    "(y_pred_NN1 == y_test).sum() / len(y_pred_NN1)"
   ]
  },
  {
   "cell_type": "code",
   "execution_count": 44,
   "metadata": {},
   "outputs": [
    {
     "data": {
      "text/plain": [
       "0"
      ]
     },
     "execution_count": 44,
     "metadata": {},
     "output_type": "execute_result"
    }
   ],
   "source": [
    "(y_pred_NN1 != 0).sum()"
   ]
  },
  {
   "cell_type": "code",
   "execution_count": 45,
   "metadata": {},
   "outputs": [
    {
     "data": {
      "text/plain": [
       "0.0"
      ]
     },
     "execution_count": 45,
     "metadata": {},
     "output_type": "execute_result"
    }
   ],
   "source": [
    "(y_pred_NN1 != 0).sum() / (y_test != 0).sum()"
   ]
  },
  {
   "cell_type": "code",
   "execution_count": 46,
   "metadata": {},
   "outputs": [
    {
     "name": "stderr",
     "output_type": "stream",
     "text": [
      "/usr/local/lib/python2.7/site-packages/ipykernel_launcher.py:1: RuntimeWarning: invalid value encountered in long_scalars\n",
      "  \"\"\"Entry point for launching an IPython kernel.\n"
     ]
    },
    {
     "data": {
      "text/plain": [
       "nan"
      ]
     },
     "execution_count": 46,
     "metadata": {},
     "output_type": "execute_result"
    }
   ],
   "source": [
    "(y_pred_NN1[np.where(y_pred_NN1 != 0)] == y_test.iloc[np.where(y_pred_NN1 != 0)]).sum() / len((y_pred_NN1[np.where(y_pred_NN1 != 0)]))\n"
   ]
  },
  {
   "cell_type": "markdown",
   "metadata": {},
   "source": [
    "# CV NN1"
   ]
  },
  {
   "cell_type": "code",
   "execution_count": 47,
   "metadata": {},
   "outputs": [],
   "source": [
    "def model_1():\n",
    "    model = Sequential()\n",
    "    model.add(Dense(8, input_dim=99, activation='relu'))\n",
    "    model.add(Dense(5, activation='softmax'))\n",
    "    sgd = SGD(lr=0.01, decay=1e-6, momentum=0.9, nesterov=False)\n",
    "    model.compile(loss='categorical_crossentropy', optimizer=sgd, metrics=['accuracy'])\n",
    "    return model"
   ]
  },
  {
   "cell_type": "code",
   "execution_count": 48,
   "metadata": {},
   "outputs": [],
   "source": [
    "estimator = KerasClassifier(build_fn=model_1, epochs=100, batch_size=256, verbose=False)"
   ]
  },
  {
   "cell_type": "code",
   "execution_count": 49,
   "metadata": {},
   "outputs": [],
   "source": [
    "kfold = KFold(n_splits=5, shuffle=True, random_state=1234)"
   ]
  },
  {
   "cell_type": "code",
   "execution_count": 50,
   "metadata": {},
   "outputs": [
    {
     "name": "stdout",
     "output_type": "stream",
     "text": [
      "Model_1: 96.10% (0.21%)\n"
     ]
    }
   ],
   "source": [
    "results = cross_val_score(estimator, X_train_scaled, y_train_onehot, cv=kfold)\n",
    "print(\"Model_1: %.2f%% (%.2f%%)\" % (results.mean()*100, results.std()*100))"
   ]
  },
  {
   "cell_type": "markdown",
   "metadata": {},
   "source": [
    "# NN model 2"
   ]
  },
  {
   "cell_type": "code",
   "execution_count": 51,
   "metadata": {},
   "outputs": [],
   "source": [
    "model2 = Sequential()\n",
    "model2.add(Dense(10, input_dim=99, activation='relu'))\n",
    "model2.add(Dense(10, activation='relu'))\n",
    "model2.add(Dense(5, activation='softmax'))\n",
    "\n",
    "sgd = SGD(lr=0.01, decay=1e-6, momentum=0.9, nesterov=False)\n",
    "model2.compile(loss='categorical_crossentropy', optimizer=sgd, metrics=['accuracy'])"
   ]
  },
  {
   "cell_type": "code",
   "execution_count": 52,
   "metadata": {},
   "outputs": [],
   "source": [
    "history = model2.fit(X_train_scaled, y_train_onehot, validation_split=0.25, epochs=100, batch_size=256, verbose=False)"
   ]
  },
  {
   "cell_type": "code",
   "execution_count": 53,
   "metadata": {},
   "outputs": [
    {
     "data": {
      "text/plain": [
       "0.9609891281176721"
      ]
     },
     "execution_count": 53,
     "metadata": {},
     "output_type": "execute_result"
    }
   ],
   "source": [
    "y_pred_NN2 = model2.predict_classes(X_test_scaled)\n",
    "(y_pred_NN2 == y_test).sum() / len(y_pred_NN2)"
   ]
  },
  {
   "cell_type": "code",
   "execution_count": 54,
   "metadata": {},
   "outputs": [
    {
     "data": {
      "text/plain": [
       "0"
      ]
     },
     "execution_count": 54,
     "metadata": {},
     "output_type": "execute_result"
    }
   ],
   "source": [
    "(y_pred_NN2 != 0).sum()"
   ]
  },
  {
   "cell_type": "code",
   "execution_count": 55,
   "metadata": {},
   "outputs": [
    {
     "data": {
      "text/plain": [
       "0.0"
      ]
     },
     "execution_count": 55,
     "metadata": {},
     "output_type": "execute_result"
    }
   ],
   "source": [
    "(y_pred_NN2 != 0).sum() / (y_test != 0).sum()"
   ]
  },
  {
   "cell_type": "code",
   "execution_count": 56,
   "metadata": {},
   "outputs": [
    {
     "name": "stderr",
     "output_type": "stream",
     "text": [
      "/usr/local/lib/python2.7/site-packages/ipykernel_launcher.py:1: RuntimeWarning: invalid value encountered in long_scalars\n",
      "  \"\"\"Entry point for launching an IPython kernel.\n"
     ]
    },
    {
     "data": {
      "text/plain": [
       "nan"
      ]
     },
     "execution_count": 56,
     "metadata": {},
     "output_type": "execute_result"
    }
   ],
   "source": [
    "(y_pred_NN2[np.where(y_pred_NN2 != 0)] == y_test.iloc[np.where(y_pred_NN2 != 0)]).sum() / len((y_pred_NN2[np.where(y_pred_NN2 != 0)]))\n"
   ]
  },
  {
   "cell_type": "markdown",
   "metadata": {},
   "source": [
    "# CV NN2"
   ]
  },
  {
   "cell_type": "code",
   "execution_count": 57,
   "metadata": {},
   "outputs": [],
   "source": [
    "def model_2():\n",
    "    model = Sequential()\n",
    "    model.add(Dense(10, input_dim=99, activation='relu'))\n",
    "    model.add(Dense(10, activation='relu'))\n",
    "    model.add(Dense(5, activation='softmax'))\n",
    "    \n",
    "    sgd = SGD(lr=0.01, decay=1e-6, momentum=0.9, nesterov=False)\n",
    "    model.compile(loss='categorical_crossentropy', optimizer=sgd, metrics=['accuracy'])\n",
    "    return model"
   ]
  },
  {
   "cell_type": "code",
   "execution_count": 58,
   "metadata": {},
   "outputs": [],
   "source": [
    "estimator = KerasClassifier(build_fn=model_2, epochs=100, batch_size=256, verbose=False)"
   ]
  },
  {
   "cell_type": "code",
   "execution_count": 59,
   "metadata": {},
   "outputs": [],
   "source": [
    "kfold = KFold(n_splits=5, shuffle=True, random_state=1234)"
   ]
  },
  {
   "cell_type": "code",
   "execution_count": 60,
   "metadata": {},
   "outputs": [
    {
     "name": "stdout",
     "output_type": "stream",
     "text": [
      "Model_2: 96.10% (0.21%)\n"
     ]
    }
   ],
   "source": [
    "results = cross_val_score(estimator, X_train_scaled, y_train_onehot, cv=kfold)\n",
    "print(\"Model_2: %.2f%% (%.2f%%)\" % (results.mean()*100, results.std()*100))"
   ]
  },
  {
   "cell_type": "markdown",
   "metadata": {},
   "source": [
    "# NN model 3"
   ]
  },
  {
   "cell_type": "code",
   "execution_count": 61,
   "metadata": {},
   "outputs": [],
   "source": [
    "model3 = Sequential()\n",
    "model3.add(Dense(100, input_dim=99, activation='relu'))\n",
    "model3.add(Dense(100, activation='relu'))\n",
    "model3.add(Dense(100, activation='relu'))\n",
    "model3.add(Dense(100, activation='relu'))\n",
    "model3.add(Dense(5, activation='softmax'))\n",
    "\n",
    "sgd = SGD(lr=0.01, decay=1e-6, momentum=0.9, nesterov=False)\n",
    "model3.compile(loss='categorical_crossentropy', optimizer=sgd, metrics=['accuracy'])"
   ]
  },
  {
   "cell_type": "code",
   "execution_count": 62,
   "metadata": {},
   "outputs": [],
   "source": [
    "history = model3.fit(X_train_scaled, y_train_onehot, validation_split=0.25, epochs=100, batch_size=256, verbose=False)"
   ]
  },
  {
   "cell_type": "code",
   "execution_count": 63,
   "metadata": {},
   "outputs": [
    {
     "data": {
      "text/plain": [
       "0.9609891281176721"
      ]
     },
     "execution_count": 63,
     "metadata": {},
     "output_type": "execute_result"
    }
   ],
   "source": [
    "y_pred_NN3 = model3.predict_classes(X_test_scaled)\n",
    "(y_pred_NN3 == y_test).sum() / len(y_pred_NN3)"
   ]
  },
  {
   "cell_type": "code",
   "execution_count": 64,
   "metadata": {},
   "outputs": [
    {
     "data": {
      "text/plain": [
       "0"
      ]
     },
     "execution_count": 64,
     "metadata": {},
     "output_type": "execute_result"
    }
   ],
   "source": [
    "(y_pred_NN3 != 0).sum()"
   ]
  },
  {
   "cell_type": "code",
   "execution_count": 65,
   "metadata": {},
   "outputs": [
    {
     "data": {
      "text/plain": [
       "0.0"
      ]
     },
     "execution_count": 65,
     "metadata": {},
     "output_type": "execute_result"
    }
   ],
   "source": [
    "(y_pred_NN3 != 0).sum() / (y_test != 0).sum()"
   ]
  },
  {
   "cell_type": "code",
   "execution_count": 66,
   "metadata": {},
   "outputs": [
    {
     "name": "stderr",
     "output_type": "stream",
     "text": [
      "/usr/local/lib/python2.7/site-packages/ipykernel_launcher.py:1: RuntimeWarning: invalid value encountered in long_scalars\n",
      "  \"\"\"Entry point for launching an IPython kernel.\n"
     ]
    },
    {
     "data": {
      "text/plain": [
       "nan"
      ]
     },
     "execution_count": 66,
     "metadata": {},
     "output_type": "execute_result"
    }
   ],
   "source": [
    "(y_pred_NN3[np.where(y_pred_NN3 != 0)] == y_test.iloc[np.where(y_pred_NN3 != 0)]).sum() / len((y_pred_NN3[np.where(y_pred_NN3 != 0)]))\n"
   ]
  },
  {
   "cell_type": "markdown",
   "metadata": {},
   "source": [
    "# CV NN3"
   ]
  },
  {
   "cell_type": "code",
   "execution_count": 67,
   "metadata": {},
   "outputs": [],
   "source": [
    "def model_3():\n",
    "    model = Sequential()\n",
    "    model.add(Dense(100, input_dim=99, activation='relu'))\n",
    "    model.add(Dense(100, activation='relu'))\n",
    "    model.add(Dense(100, activation='relu'))\n",
    "    model.add(Dense(100, activation='relu'))\n",
    "    model.add(Dense(5, activation='softmax'))\n",
    "    \n",
    "    sgd = SGD(lr=0.01, decay=1e-6, momentum=0.9, nesterov=False)\n",
    "    model.compile(loss='categorical_crossentropy', optimizer=sgd, metrics=['accuracy'])\n",
    "    return model"
   ]
  },
  {
   "cell_type": "code",
   "execution_count": 68,
   "metadata": {},
   "outputs": [],
   "source": [
    "estimator = KerasClassifier(build_fn=model_3, epochs=100, batch_size=256, verbose=False)"
   ]
  },
  {
   "cell_type": "code",
   "execution_count": 69,
   "metadata": {},
   "outputs": [],
   "source": [
    "kfold = KFold(n_splits=5, shuffle=True, random_state=1234)"
   ]
  },
  {
   "cell_type": "code",
   "execution_count": 70,
   "metadata": {},
   "outputs": [
    {
     "name": "stdout",
     "output_type": "stream",
     "text": [
      "Model_3: 96.10% (0.21%)\n"
     ]
    }
   ],
   "source": [
    "results = cross_val_score(estimator, X_train_scaled, y_train_onehot, cv=kfold)\n",
    "print(\"Model_3: %.2f%% (%.2f%%)\" % (results.mean()*100, results.std()*100))"
   ]
  },
  {
   "cell_type": "code",
   "execution_count": null,
   "metadata": {},
   "outputs": [],
   "source": [
    "#plot_model(model)\n",
    "#plot_model(model, to_file='model.png')"
   ]
  },
  {
   "cell_type": "markdown",
   "metadata": {},
   "source": [
    "# CROSS VALIDATION SCORES"
   ]
  },
  {
   "cell_type": "code",
   "execution_count": null,
   "metadata": {},
   "outputs": [],
   "source": [
    "gnb_scores = cross_val_score(clf_gnb, data.iloc[:, 1:-1], data.iloc[:, -1], cv=5)\n",
    "print(\"Accuracy GNB: %0.2f (+/- %0.2f)\" % (gnb_scores.mean(), gnb_scores.std()))\n",
    "knn_scores = cross_val_score(clf_knn, data.iloc[:, 1:-1], data.iloc[:, -1], cv=5)\n",
    "print(\"Accuracy kNN: %0.2f (+/- %0.2f)\" % (knn_scores.mean(), knn_scores.std()))\n",
    "#mnr_scores = cross_val_score(clf_mnr, data.iloc[:, 1:-1], data.iloc[:, -1], cv=10)\n",
    "#print(\"Accuracy MNR: %0.2f (+/- %0.2f)\" % (mnr_scores.mean(), mnr_scores.std()))\n",
    "#svm_scores = cross_val_score(clf_svm, data.iloc[:, 1:-1], data.iloc[:, -1], cv=5)\n",
    "#print(\"Accuracy SVM: %0.2f (+/- %0.2f)\" % (svm_scores.mean(), svm_scores.std()))\n",
    "lda_scores = cross_val_score(clf_lda, data.iloc[:, 1:-1], data.iloc[:, -1], cv=5)\n",
    "print(\"Accuracy LDA: %0.2f (+/- %0.2f)\" % (lda_scores.mean(), lda_scores.std()))\n",
    "qda_scores = cross_val_score(clf_qda, data.iloc[:, 1:-1], data.iloc[:, -1], cv=5)\n",
    "print(\"Accuracy QDA: %0.2f (+/- %0.2f)\" % (qda_scores.mean(), qda_scores.std()))"
   ]
  },
  {
   "cell_type": "markdown",
   "metadata": {},
   "source": [
    "# FEATURE ENGINEERING"
   ]
  },
  {
   "cell_type": "markdown",
   "metadata": {},
   "source": [
    "Noticed on Mokka that RTOE, LTOE stop moving in x-axis when foot strike\n",
    "Same for heel (maybe y direction)\n",
    "\n",
    "- WANT TO ADD A LAGGED TIME SERIES OF FEATURE RTOE, LTOE, RHEE, LHEE, try different lags => past information => when movement in x-axis smaller than threshold => event\n",
    "- CREATE VARIABLE 1diff, 2diff, 2diff.\n",
    "- WANT TO ADD RTOE^2, etc. to see if makes models any better"
   ]
  },
  {
   "cell_type": "markdown",
   "metadata": {},
   "source": [
    "### LAGGING, only using LTOE,RTOE, LHEE, RHEE in x,y,z axis"
   ]
  },
  {
   "cell_type": "markdown",
   "metadata": {},
   "source": [
    "CAREFUL: need to separate patients with different conditions?"
   ]
  },
  {
   "cell_type": "code",
   "execution_count": 71,
   "metadata": {},
   "outputs": [],
   "source": [
    "X_subset = data[['# frame', 'LTOE_x', 'RTOE_x', 'LHEE_x', 'RHEE_x', 'LTOE_y', 'RTOE_y', 'LHEE_y', 'RHEE_y', 'LTOE_z', 'RTOE_z', 'LHEE_z', 'RHEE_z', 'labels']]"
   ]
  },
  {
   "cell_type": "code",
   "execution_count": 72,
   "metadata": {},
   "outputs": [],
   "source": [
    "cp = pd.read_csv(\"CP_merged.csv\")\n",
    "fd = pd.read_csv(\"FD_merged.csv\")\n",
    "itw = pd.read_csv(\"ITW_merged.csv\")\n",
    "cp = cp.dropna(axis=0, how='any')\n",
    "fd = fd.dropna(axis=0, how='any')\n",
    "itw = itw.dropna(axis=0, how='any')\n",
    "fd = fd.replace('Foot_Off_GS_Right', 'Foot Off_Right')\n",
    "data_lag = pd.DataFrame(np.vstack((cp, fd, itw)), columns=list(cp.columns.values))"
   ]
  },
  {
   "cell_type": "markdown",
   "metadata": {},
   "source": [
    "# Lag behaviour PLOTS"
   ]
  },
  {
   "cell_type": "code",
   "execution_count": 73,
   "metadata": {},
   "outputs": [
    {
     "data": {
      "text/plain": [
       "(23452, 12)"
      ]
     },
     "execution_count": 73,
     "metadata": {},
     "output_type": "execute_result"
    }
   ],
   "source": [
    "lag_1 = np.zeros((X_subset.shape[0], len(X_subset.columns)-2))\n",
    "for i in range(X_subset.shape[0]-1):\n",
    "    if (X_subset.iloc[i+1, 0] - X_subset.iloc[i, 0]) == 1:\n",
    "        lag_1[i, :] = X_subset.iloc[i+1, 1:-1] - X_subset.iloc[i, 1:-1]\n",
    "    else:\n",
    "        lag_1[i, :] = 0\n",
    "lag_1.shape"
   ]
  },
  {
   "cell_type": "code",
   "execution_count": 74,
   "metadata": {},
   "outputs": [
    {
     "data": {
      "text/plain": [
       "(23452, 12)"
      ]
     },
     "execution_count": 74,
     "metadata": {},
     "output_type": "execute_result"
    }
   ],
   "source": [
    "lag_2 = np.zeros((X_subset.shape[0], len(X_subset.columns)-2))\n",
    "for i in range(X_subset.shape[0]-2):\n",
    "    if (X_subset.iloc[i+2, 0] - X_subset.iloc[i, 0]) == 2:\n",
    "        lag_2[i, :] = X_subset.iloc[i+2, 1:-1] - X_subset.iloc[i, 1:-1]\n",
    "    else:\n",
    "        lag_2[i, :] = 0\n",
    "lag_2.shape"
   ]
  },
  {
   "cell_type": "code",
   "execution_count": 75,
   "metadata": {},
   "outputs": [
    {
     "data": {
      "text/plain": [
       "(23452, 12)"
      ]
     },
     "execution_count": 75,
     "metadata": {},
     "output_type": "execute_result"
    }
   ],
   "source": [
    "lag_3 = np.zeros((X_subset.shape[0], len(X_subset.columns)-2))\n",
    "for i in range(X_subset.shape[0]-3):\n",
    "    if (X_subset.iloc[i+3, 0] - X_subset.iloc[i, 0]) == 3:\n",
    "        lag_3[i, :] = X_subset.iloc[i+3, 1:-1] - X_subset.iloc[i, 1:-1]\n",
    "    else:\n",
    "        lag_3[i, :] = 0\n",
    "lag_3.shape"
   ]
  },
  {
   "cell_type": "code",
   "execution_count": 76,
   "metadata": {},
   "outputs": [],
   "source": [
    "names_lag1 = list('lag1_' + i for i in list(X_subset)[1:-1])\n",
    "names_lag2 = list('lag2_' + i for i in list(X_subset)[1:-1])\n",
    "names_lag3 = list('lag3_' + i for i in list(X_subset)[1:-1])\n",
    "\n",
    "lag_1 = pd.DataFrame(lag_1, columns=names_lag1)\n",
    "lag_2 = pd.DataFrame(lag_2, columns=names_lag2)\n",
    "lag_3 = pd.DataFrame(lag_3, columns=names_lag3)"
   ]
  },
  {
   "cell_type": "code",
   "execution_count": 77,
   "metadata": {},
   "outputs": [],
   "source": [
    "data_lag[names_lag1] = lag_1\n",
    "data_lag[names_lag2] = lag_2\n",
    "data_lag[names_lag3] = lag_3"
   ]
  },
  {
   "cell_type": "code",
   "execution_count": 78,
   "metadata": {},
   "outputs": [],
   "source": [
    "cp = pd.read_csv(\"CP_merged.csv\")\n",
    "fd = pd.read_csv(\"FD_merged.csv\")\n",
    "itw = pd.read_csv(\"ITW_merged.csv\")\n",
    "cp = cp.dropna(axis=0, how='any')\n",
    "fd = fd.dropna(axis=0, how='any')\n",
    "itw = itw.dropna(axis=0, how='any')\n",
    "fd = fd.replace('Foot_Off_GS_Right', 'Foot Off_Right')\n",
    "data_aug = pd.DataFrame(np.vstack((cp, fd, itw)), columns=list(cp.columns.values))"
   ]
  },
  {
   "cell_type": "code",
   "execution_count": 79,
   "metadata": {},
   "outputs": [],
   "source": [
    "ind = np.where(data_aug.iloc[:,-1] != '0_0')\n",
    "for i in ind[0]:\n",
    "    try:\n",
    "        if (data_aug.iloc[i+3,0] - data_aug.iloc[i-3,0] == 6):\n",
    "            data_aug.iloc[i-3:i+3,-1] = data_aug.iloc[i,-1]\n",
    "    except:\n",
    "        pass"
   ]
  },
  {
   "cell_type": "code",
   "execution_count": 80,
   "metadata": {},
   "outputs": [],
   "source": [
    "data_lag = data_lag.assign(labels = data_aug.iloc[:, -1])"
   ]
  },
  {
   "cell_type": "code",
   "execution_count": 81,
   "metadata": {},
   "outputs": [],
   "source": [
    "cols = list(data_lag.columns)\n",
    "cols.pop(100)\n",
    "cols.append('labels')\n",
    "data_lag = data_lag[cols]"
   ]
  },
  {
   "cell_type": "code",
   "execution_count": 82,
   "metadata": {},
   "outputs": [],
   "source": [
    "data_lag = data_lag.replace('0_0', 0)\n",
    "data_lag = data_lag.replace('Foot Off_Left', 1)\n",
    "data_lag = data_lag.replace('Foot Off_Right', 2)\n",
    "data_lag = data_lag.replace('Foot Strike_Left', 3)\n",
    "data_lag = data_lag.replace('Foot Strike_Right', 4)"
   ]
  },
  {
   "cell_type": "code",
   "execution_count": 83,
   "metadata": {},
   "outputs": [
    {
     "data": {
      "text/plain": [
       "array([0, 1, 2, 3, 4])"
      ]
     },
     "execution_count": 83,
     "metadata": {},
     "output_type": "execute_result"
    }
   ],
   "source": [
    "np.unique(data_lag.iloc[:, -1])"
   ]
  },
  {
   "cell_type": "markdown",
   "metadata": {},
   "source": [
    "# Lag PLOTS"
   ]
  },
  {
   "cell_type": "code",
   "execution_count": null,
   "metadata": {},
   "outputs": [],
   "source": [
    "ev_fsl = np.where(X_subset.iloc[:173, -1] == 1)[0]\n",
    "ev_fsr = np.where(X_subset.iloc[:173, -1] == 2)[0]\n",
    "ev_fol = np.where(X_subset.iloc[:173, -1] == 3)[0]\n",
    "ev_FOR = np.where(X_subset.iloc[:173, -1] == 4)[0]\n",
    "\n",
    "\n",
    "plt.plot(X_subset.iloc[:173, 0], lag_1.iloc[:173, 0])\n",
    "fsl = plt.scatter(ev_fsl, lag_1.iloc[ev_fsl, 0], marker='p', c='red')\n",
    "fsr = plt.scatter(ev_fsr, lag_1.iloc[ev_fsr, 0], marker='p', c='green')\n",
    "fol = plt.scatter(ev_fol, lag_1.iloc[ev_fol, 0], marker='p', c='purple')\n",
    "FOR = plt.scatter(ev_FOR, lag_1.iloc[ev_FOR, 0], marker='p', c='blue')\n",
    "plt.axhline(y=5, color='r', linestyle='-')\n",
    "\n",
    "\n",
    "plt.title('lag_1 - LTOE_x')\n",
    "plt.xlabel('Frame')\n",
    "plt.legend((fsl, fsr, fol, FOR), ('Foot Strike Left', 'Foot Strike Right', 'Foot Off Left', 'Foot Off Right' ))\n",
    "plt.savefig('/Users/kieranschubert/Desktop/BTK/btk_mac_os/figures/lag1_behaviour.png')\n",
    "plt.show()"
   ]
  },
  {
   "cell_type": "code",
   "execution_count": null,
   "metadata": {},
   "outputs": [],
   "source": [
    "ev_fsl = np.where(X_subset.iloc[:173, -1] == 1)[0]\n",
    "ev_fsr = np.where(X_subset.iloc[:173, -1] == 2)[0]\n",
    "ev_fol = np.where(X_subset.iloc[:173, -1] == 3)[0]\n",
    "ev_FOR = np.where(X_subset.iloc[:173, -1] == 4)[0]\n",
    "\n",
    "\n",
    "plt.plot(X_subset.iloc[:173, 0], lag_2.iloc[:173, 0])\n",
    "fsl = plt.scatter(ev_fsl, lag_2.iloc[ev_fsl, 0], marker='p', c='red')\n",
    "fsr = plt.scatter(ev_fsr, lag_2.iloc[ev_fsr, 0], marker='p', c='green')\n",
    "fol = plt.scatter(ev_fol, lag_2.iloc[ev_fol, 0], marker='p', c='purple')\n",
    "FOR = plt.scatter(ev_FOR, lag_2.iloc[ev_FOR, 0], marker='p', c='blue')\n",
    "plt.axhline(y=10, color='r', linestyle='-')\n",
    "\n",
    "plt.title('lag_2 - LTOE_x')\n",
    "plt.xlabel('Frame')\n",
    "plt.legend((fsl, fsr, fol, FOR), ('Foot Strike Left', 'Foot Strike Right', 'Foot Off Left', 'Foot Off Right' ))\n",
    "plt.savefig('/Users/kieranschubert/Desktop/BTK/btk_mac_os/figures/lag2_behaviour.png')\n",
    "plt.show()"
   ]
  },
  {
   "cell_type": "code",
   "execution_count": null,
   "metadata": {},
   "outputs": [],
   "source": [
    "ev_fsl = np.where(X_subset.iloc[:173, -1] == 1)[0]\n",
    "ev_fsr = np.where(X_subset.iloc[:173, -1] == 2)[0]\n",
    "ev_fol = np.where(X_subset.iloc[:173, -1] == 3)[0]\n",
    "ev_FOR = np.where(X_subset.iloc[:173, -1] == 4)[0]\n",
    "\n",
    "\n",
    "plt.plot(X_subset.iloc[:173, 0], lag_3.iloc[:173, 0])\n",
    "fsl = plt.scatter(ev_fsl, lag_3.iloc[ev_fsl, 0], marker='p', c='red')\n",
    "fsr = plt.scatter(ev_fsr, lag_3.iloc[ev_fsr, 0], marker='p', c='green')\n",
    "fol = plt.scatter(ev_fol, lag_3.iloc[ev_fol, 0], marker='p', c='purple')\n",
    "FOR = plt.scatter(ev_FOR, lag_3.iloc[ev_FOR, 0], marker='p', c='blue')\n",
    "plt.axhline(y=15, color='r', linestyle='-')\n",
    "\n",
    "plt.title('lag_3 - LTOE_x')\n",
    "plt.xlabel('Frame')\n",
    "plt.legend((fsl, fsr, fol, FOR), ('Foot Strike Left', 'Foot Strike Right', 'Foot Off Left', 'Foot Off Right' ))\n",
    "plt.savefig('/Users/kieranschubert/Desktop/BTK/btk_mac_os/figures/lag3_behaviour.png')\n",
    "plt.show()"
   ]
  },
  {
   "cell_type": "code",
   "execution_count": null,
   "metadata": {},
   "outputs": [],
   "source": [
    "names = list(lag_1.columns) + list(X_subset.columns[1:-1])\n",
    "mat = pd.DataFrame(np.hstack((lag_1, data[list(X_subset.columns[1:-1])])),\n",
    "                  columns=names)\n",
    "mat_lag1 = mat.corr().iloc[:12, 12:]\n",
    "\n",
    "plt.imshow(mat_lag1, cmap=plt.cm.Reds, interpolation='nearest')\n",
    "plt.colorbar()\n",
    "tick_marks = [i for i in range(len(mat_lag1.columns))]\n",
    "plt.xticks(tick_marks, mat_lag1.columns, rotation='vertical')\n",
    "plt.yticks(tick_marks, list(mat_lag1.index))\n",
    "plt.title('lag-1 correlation')\n",
    "plt.savefig('/Users/kieranschubert/Desktop/BTK/btk_mac_os/figures/lag1_corr.png')\n",
    "plt.show()"
   ]
  },
  {
   "cell_type": "code",
   "execution_count": null,
   "metadata": {},
   "outputs": [],
   "source": [
    "names = list(lag_2.columns) + list(X_subset.columns[1:-1])\n",
    "mat = pd.DataFrame(np.hstack((lag_2, data[list(X_subset.columns[1:-1])])),\n",
    "                  columns=names)\n",
    "mat_lag2 = mat.corr().iloc[:12, 12:]\n",
    "\n",
    "plt.imshow(mat_lag2, cmap=plt.cm.Reds, interpolation='nearest')\n",
    "plt.colorbar()\n",
    "tick_marks = [i for i in range(len(mat_lag2.columns))]\n",
    "plt.xticks(tick_marks, mat_lag2.columns, rotation='vertical')\n",
    "plt.yticks(tick_marks, list(mat_lag2.index))\n",
    "plt.title('lag-2 correlation')\n",
    "plt.savefig('/Users/kieranschubert/Desktop/BTK/btk_mac_os/figures/lag2_corr.png')\n",
    "plt.show()"
   ]
  },
  {
   "cell_type": "code",
   "execution_count": null,
   "metadata": {},
   "outputs": [],
   "source": [
    "names = list(lag_3.columns) + list(X_subset.columns[1:-1])\n",
    "mat = pd.DataFrame(np.hstack((lag_3, data[list(X_subset.columns[1:-1])])),\n",
    "                  columns=names)\n",
    "mat_lag3 = mat.corr().iloc[:12, 12:]\n",
    "\n",
    "plt.imshow(mat_lag3, cmap=plt.cm.Reds, interpolation='nearest')\n",
    "plt.colorbar()\n",
    "tick_marks = [i for i in range(len(mat_lag3.columns))]\n",
    "plt.xticks(tick_marks, mat_lag3.columns, rotation='vertical')\n",
    "plt.yticks(tick_marks, list(mat_lag3.index))\n",
    "plt.title('lag-3 correlation')\n",
    "plt.savefig('/Users/kieranschubert/Desktop/BTK/btk_mac_os/figures/lag3_corr.png')\n",
    "plt.show()"
   ]
  },
  {
   "cell_type": "markdown",
   "metadata": {},
   "source": [
    "# Data Splitting"
   ]
  },
  {
   "cell_type": "code",
   "execution_count": 86,
   "metadata": {},
   "outputs": [],
   "source": [
    "X_train_lag, X_test_lag, y_train_lag, y_test_lag = train_test_split(\n",
    "    data_lag.iloc[:, data_lag.columns != 'labels'], data_lag.iloc[:, data_lag.columns == 'labels'], test_size=0.2, random_state=0)\n",
    "X_train_lag = X_train_lag.iloc[:, 1:]\n",
    "X_test_lag = X_test_lag.iloc[:, 1:]\n",
    "X_train_lag_scaled = preprocessing.scale(X_train_lag)\n",
    "X_test_lag_scaled = preprocessing.scale(X_test_lag)"
   ]
  },
  {
   "cell_type": "markdown",
   "metadata": {},
   "source": [
    "## MODELLING"
   ]
  },
  {
   "cell_type": "markdown",
   "metadata": {},
   "source": [
    "# GNB"
   ]
  },
  {
   "cell_type": "code",
   "execution_count": 87,
   "metadata": {},
   "outputs": [
    {
     "name": "stdout",
     "output_type": "stream",
     "text": [
      "Classification accuracy GNB cp: 0.56\n"
     ]
    }
   ],
   "source": [
    "clf_gnb_lag = GaussianNB()\n",
    "y_pred_gnb_lag = np.array(clf_gnb_lag.fit(X_train_lag_scaled, y_train_lag.values.ravel()).predict(X_test_lag_scaled))\n",
    "gnb_acc_lag = (y_pred_gnb_lag == y_test_lag.values.ravel()).sum()/len(y_pred_gnb_lag)\n",
    "print(\"Classification accuracy GNB cp: %.2f\" % gnb_acc_lag)"
   ]
  },
  {
   "cell_type": "code",
   "execution_count": 88,
   "metadata": {},
   "outputs": [
    {
     "data": {
      "text/plain": [
       "2696"
      ]
     },
     "execution_count": 88,
     "metadata": {},
     "output_type": "execute_result"
    }
   ],
   "source": [
    "(y_pred_gnb_lag != 0).sum()"
   ]
  },
  {
   "cell_type": "code",
   "execution_count": 89,
   "metadata": {},
   "outputs": [
    {
     "data": {
      "text/plain": [
       "2.5386064030131825"
      ]
     },
     "execution_count": 89,
     "metadata": {},
     "output_type": "execute_result"
    }
   ],
   "source": [
    "(y_pred_gnb_lag != 0).sum() / (y_test_lag.values.ravel() != 0).sum()"
   ]
  },
  {
   "cell_type": "code",
   "execution_count": 91,
   "metadata": {},
   "outputs": [
    {
     "data": {
      "text/plain": [
       "0.23738872403560832"
      ]
     },
     "execution_count": 91,
     "metadata": {},
     "output_type": "execute_result"
    }
   ],
   "source": [
    "(y_pred_gnb_lag[np.where(y_pred_gnb_lag != 0)] == y_test_lag.values.ravel()[np.where(y_pred_gnb_lag != 0)]).sum() / len((y_pred_gnb_lag[np.where(y_pred_gnb_lag != 0)]))\n"
   ]
  },
  {
   "cell_type": "markdown",
   "metadata": {},
   "source": [
    "# kNN"
   ]
  },
  {
   "cell_type": "code",
   "execution_count": 92,
   "metadata": {},
   "outputs": [],
   "source": [
    "#scaler = StandardScaler()  \n",
    "#X_train_scaled_lag = scaler.fit_transform(X_train_lag)  \n",
    "#X_test_scaled_lag = scaler.fit_transform(X_test_lag)\n",
    "\n",
    "clf_knn_lag = KNeighborsClassifier(n_neighbors=5)  \n",
    "y_pred_knn_lag = clf_knn_lag.fit(X_train_lag_scaled, y_train.values.ravel()).predict(X_test_lag_scaled)"
   ]
  },
  {
   "cell_type": "code",
   "execution_count": 93,
   "metadata": {},
   "outputs": [
    {
     "name": "stdout",
     "output_type": "stream",
     "text": [
      "Classification accuracy kNN: 0.77\n"
     ]
    }
   ],
   "source": [
    "knn_acc_lag = (y_pred_knn_lag == y_test_lag.values.ravel()).sum() / len(y_pred_knn_lag)\n",
    "print(\"Classification accuracy kNN: %.2f\" % knn_acc_lag)"
   ]
  },
  {
   "cell_type": "code",
   "execution_count": 94,
   "metadata": {},
   "outputs": [
    {
     "data": {
      "text/plain": [
       "0"
      ]
     },
     "execution_count": 94,
     "metadata": {},
     "output_type": "execute_result"
    }
   ],
   "source": [
    "(y_pred_knn_lag != 0).sum()"
   ]
  },
  {
   "cell_type": "code",
   "execution_count": 95,
   "metadata": {},
   "outputs": [
    {
     "data": {
      "text/plain": [
       "0.0"
      ]
     },
     "execution_count": 95,
     "metadata": {},
     "output_type": "execute_result"
    }
   ],
   "source": [
    "(y_pred_knn_lag != 0).sum() / (y_test_lag.values.ravel() != 0).sum()"
   ]
  },
  {
   "cell_type": "code",
   "execution_count": 96,
   "metadata": {},
   "outputs": [
    {
     "name": "stderr",
     "output_type": "stream",
     "text": [
      "/usr/local/lib/python2.7/site-packages/ipykernel_launcher.py:1: RuntimeWarning: invalid value encountered in long_scalars\n",
      "  \"\"\"Entry point for launching an IPython kernel.\n"
     ]
    },
    {
     "data": {
      "text/plain": [
       "nan"
      ]
     },
     "execution_count": 96,
     "metadata": {},
     "output_type": "execute_result"
    }
   ],
   "source": [
    "(y_pred_knn_lag[np.where(y_pred_knn_lag != 0)] == y_test_lag.values.ravel()[np.where(y_pred_knn_lag != 0)]).sum() / len((y_pred_knn_lag[np.where(y_pred_knn_lag != 0)]))\n"
   ]
  },
  {
   "cell_type": "markdown",
   "metadata": {},
   "source": [
    "# SOFTMAX CLASSIFICATION"
   ]
  },
  {
   "cell_type": "code",
   "execution_count": 97,
   "metadata": {},
   "outputs": [],
   "source": [
    "clf_mnr_lag = LogisticRegression(random_state=0, solver='lbfgs', max_iter=1000000, multi_class='multinomial').fit(X_train_lag_scaled, y_train_lag.values.ravel())"
   ]
  },
  {
   "cell_type": "code",
   "execution_count": 99,
   "metadata": {},
   "outputs": [
    {
     "name": "stdout",
     "output_type": "stream",
     "text": [
      "Classification accuracy Multinomial Regression : 0.82\n"
     ]
    }
   ],
   "source": [
    "y_pred_mnr_lag = np.array(clf_mnr_lag.predict(X_test_lag_scaled))\n",
    "mnr_acc_lag = (y_pred_mnr_lag == y_test_lag.values.ravel()).sum()/len(y_pred_mnr_lag)\n",
    "print(\"Classification accuracy Multinomial Regression : %.2f\" % mnr_acc_lag)"
   ]
  },
  {
   "cell_type": "code",
   "execution_count": 100,
   "metadata": {},
   "outputs": [
    {
     "data": {
      "text/plain": [
       "670"
      ]
     },
     "execution_count": 100,
     "metadata": {},
     "output_type": "execute_result"
    }
   ],
   "source": [
    "(y_pred_mnr_lag != 0).sum()"
   ]
  },
  {
   "cell_type": "code",
   "execution_count": 101,
   "metadata": {},
   "outputs": [
    {
     "data": {
      "text/plain": [
       "0.6308851224105462"
      ]
     },
     "execution_count": 101,
     "metadata": {},
     "output_type": "execute_result"
    }
   ],
   "source": [
    "(y_pred_mnr_lag != 0).sum() / (y_test_lag.values.ravel() != 0).sum()"
   ]
  },
  {
   "cell_type": "code",
   "execution_count": 102,
   "metadata": {},
   "outputs": [
    {
     "data": {
      "text/plain": [
       "0.5388059701492537"
      ]
     },
     "execution_count": 102,
     "metadata": {},
     "output_type": "execute_result"
    }
   ],
   "source": [
    "(y_pred_mnr_lag[np.where(y_pred_mnr_lag != 0)] == y_test_lag.values.ravel()[np.where(y_pred_mnr_lag != 0)]).sum() / len((y_pred_mnr_lag[np.where(y_pred_mnr_lag != 0)]))\n"
   ]
  },
  {
   "cell_type": "markdown",
   "metadata": {},
   "source": [
    "# SVM"
   ]
  },
  {
   "cell_type": "code",
   "execution_count": 103,
   "metadata": {},
   "outputs": [],
   "source": [
    "clf_svm_lag = svm.SVC(kernel='rbf', shrinking=True, decision_function_shape='ovo', gamma='scale')\n",
    "y_pred_svm_lag = clf_svm_lag.fit(X_train_lag_scaled, y_train_lag.values.ravel()).predict(X_test_lag_scaled)"
   ]
  },
  {
   "cell_type": "code",
   "execution_count": 104,
   "metadata": {},
   "outputs": [
    {
     "name": "stdout",
     "output_type": "stream",
     "text": [
      "Classification accuracy SVM : 0.82\n"
     ]
    }
   ],
   "source": [
    "svm_acc_lag = (y_pred_svm_lag == y_test_lag.values.ravel()).sum()/len(y_pred_svm_lag)\n",
    "print(\"Classification accuracy SVM : %.2f\" % svm_acc_lag)"
   ]
  },
  {
   "cell_type": "code",
   "execution_count": 105,
   "metadata": {},
   "outputs": [
    {
     "data": {
      "text/plain": [
       "528"
      ]
     },
     "execution_count": 105,
     "metadata": {},
     "output_type": "execute_result"
    }
   ],
   "source": [
    "(y_pred_svm_lag != 0).sum()"
   ]
  },
  {
   "cell_type": "code",
   "execution_count": 106,
   "metadata": {},
   "outputs": [
    {
     "data": {
      "text/plain": [
       "0.4971751412429379"
      ]
     },
     "execution_count": 106,
     "metadata": {},
     "output_type": "execute_result"
    }
   ],
   "source": [
    "(y_pred_svm_lag != 0).sum() / (y_test_lag.values.ravel() != 0).sum()"
   ]
  },
  {
   "cell_type": "code",
   "execution_count": 107,
   "metadata": {},
   "outputs": [
    {
     "data": {
      "text/plain": [
       "0.615530303030303"
      ]
     },
     "execution_count": 107,
     "metadata": {},
     "output_type": "execute_result"
    }
   ],
   "source": [
    "(y_pred_svm_lag[np.where(y_pred_svm_lag != 0)] == y_test_lag.values.ravel()[np.where(y_pred_svm_lag != 0)]).sum() / len((y_pred_svm_lag[np.where(y_pred_svm_lag != 0)]))\n"
   ]
  },
  {
   "cell_type": "markdown",
   "metadata": {},
   "source": [
    "# LDA"
   ]
  },
  {
   "cell_type": "code",
   "execution_count": 108,
   "metadata": {},
   "outputs": [],
   "source": [
    "clf_lda_lag = LinearDiscriminantAnalysis()\n",
    "y_pred_lda_lag = np.array(clf_lda_lag.fit(X_train_lag_scaled, y_train_lag.values.ravel()).predict(X_test_lag_scaled))"
   ]
  },
  {
   "cell_type": "code",
   "execution_count": 109,
   "metadata": {},
   "outputs": [
    {
     "name": "stdout",
     "output_type": "stream",
     "text": [
      "Classification accuracy LDA : 0.79\n"
     ]
    }
   ],
   "source": [
    "lda_acc_lag = (y_pred_lda_lag == y_test_lag.values.ravel()).sum()/len(y_pred_lda_lag)\n",
    "print(\"Classification accuracy LDA : %.2f\" % lda_acc_lag)"
   ]
  },
  {
   "cell_type": "code",
   "execution_count": 110,
   "metadata": {},
   "outputs": [
    {
     "data": {
      "text/plain": [
       "1279"
      ]
     },
     "execution_count": 110,
     "metadata": {},
     "output_type": "execute_result"
    }
   ],
   "source": [
    "(y_pred_lda_lag != 0).sum()"
   ]
  },
  {
   "cell_type": "code",
   "execution_count": 111,
   "metadata": {},
   "outputs": [
    {
     "data": {
      "text/plain": [
       "1.204331450094162"
      ]
     },
     "execution_count": 111,
     "metadata": {},
     "output_type": "execute_result"
    }
   ],
   "source": [
    "(y_pred_lda_lag != 0).sum() / (y_test_lag.values.ravel() != 0).sum()"
   ]
  },
  {
   "cell_type": "code",
   "execution_count": 112,
   "metadata": {},
   "outputs": [
    {
     "data": {
      "text/plain": [
       "0.43080531665363564"
      ]
     },
     "execution_count": 112,
     "metadata": {},
     "output_type": "execute_result"
    }
   ],
   "source": [
    "(y_pred_lda_lag[np.where(y_pred_lda_lag != 0)] == y_test_lag.values.ravel()[np.where(y_pred_lda_lag != 0)]).sum() / len((y_pred_lda_lag[np.where(y_pred_lda_lag != 0)]))\n"
   ]
  },
  {
   "cell_type": "markdown",
   "metadata": {},
   "source": [
    "# QDA"
   ]
  },
  {
   "cell_type": "code",
   "execution_count": 113,
   "metadata": {},
   "outputs": [],
   "source": [
    "clf_qda_lag = QuadraticDiscriminantAnalysis()\n",
    "y_pred_qda_lag = np.array(clf_qda_lag.fit(X_train_lag_scaled, y_train_lag.values.ravel()).predict(X_test_lag_scaled))"
   ]
  },
  {
   "cell_type": "code",
   "execution_count": 114,
   "metadata": {},
   "outputs": [
    {
     "name": "stdout",
     "output_type": "stream",
     "text": [
      "Classification accuracy LDA : 0.77\n"
     ]
    }
   ],
   "source": [
    "qda_acc_lag = (y_pred_qda_lag == y_test_lag.values.ravel()).sum()/len(y_pred_qda_lag)\n",
    "print(\"Classification accuracy LDA : %.2f\" % qda_acc_lag)"
   ]
  },
  {
   "cell_type": "code",
   "execution_count": 115,
   "metadata": {},
   "outputs": [
    {
     "data": {
      "text/plain": [
       "1885"
      ]
     },
     "execution_count": 115,
     "metadata": {},
     "output_type": "execute_result"
    }
   ],
   "source": [
    "(y_pred_qda_lag != 0).sum()"
   ]
  },
  {
   "cell_type": "code",
   "execution_count": 116,
   "metadata": {},
   "outputs": [
    {
     "data": {
      "text/plain": [
       "1.7749529190207156"
      ]
     },
     "execution_count": 116,
     "metadata": {},
     "output_type": "execute_result"
    }
   ],
   "source": [
    "(y_pred_qda_lag != 0).sum() / (y_test_lag.values.ravel() != 0).sum()"
   ]
  },
  {
   "cell_type": "code",
   "execution_count": 117,
   "metadata": {},
   "outputs": [
    {
     "data": {
      "text/plain": [
       "0.45411140583554377"
      ]
     },
     "execution_count": 117,
     "metadata": {},
     "output_type": "execute_result"
    }
   ],
   "source": [
    "(y_pred_qda_lag[np.where(y_pred_qda_lag != 0)] == y_test_lag.values.ravel()[np.where(y_pred_qda_lag != 0)]).sum() / len((y_pred_qda_lag[np.where(y_pred_qda_lag != 0)]))\n"
   ]
  },
  {
   "cell_type": "markdown",
   "metadata": {},
   "source": [
    "# NN model 1"
   ]
  },
  {
   "cell_type": "code",
   "execution_count": null,
   "metadata": {},
   "outputs": [],
   "source": [
    "#scaler = MinMaxScaler()\n",
    "#X_train_lag_scaled = scaler.fit_transform(X_train_lag)\n",
    "#X_test_lag_scaled = scaler.fit_transform(X_test_lag)"
   ]
  },
  {
   "cell_type": "code",
   "execution_count": 118,
   "metadata": {},
   "outputs": [],
   "source": [
    "y_train_lag_onehot = keras.utils.to_categorical(y_train_lag, num_classes=5)\n",
    "y_test_lag_onehot = keras.utils.to_categorical(y_test_lag, num_classes=5)"
   ]
  },
  {
   "cell_type": "code",
   "execution_count": 119,
   "metadata": {},
   "outputs": [],
   "source": [
    "model = Sequential()\n",
    "model.add(Dense(8, input_dim=135, activation='relu'))\n",
    "model.add(Dense(5, activation='softmax'))\n",
    "sgd = SGD(lr=0.01, decay=1e-6, momentum=0.9, nesterov=False)\n",
    "model.compile(loss='categorical_crossentropy', optimizer=sgd, metrics=['accuracy'])"
   ]
  },
  {
   "cell_type": "code",
   "execution_count": 120,
   "metadata": {},
   "outputs": [],
   "source": [
    "history = model.fit(X_train_lag_scaled, y_train_lag_onehot, validation_split=0.25, epochs=100, batch_size=256, verbose=False)"
   ]
  },
  {
   "cell_type": "code",
   "execution_count": 121,
   "metadata": {},
   "outputs": [
    {
     "data": {
      "text/plain": [
       "0.8283947985504156"
      ]
     },
     "execution_count": 121,
     "metadata": {},
     "output_type": "execute_result"
    }
   ],
   "source": [
    "y_pred_lag_NN1 = model.predict_classes(X_test_lag_scaled)\n",
    "(y_pred_lag_NN1 == y_test_lag.values.ravel()).sum() / len(y_pred_lag_NN1)"
   ]
  },
  {
   "cell_type": "code",
   "execution_count": 122,
   "metadata": {},
   "outputs": [
    {
     "data": {
      "text/plain": [
       "878"
      ]
     },
     "execution_count": 122,
     "metadata": {},
     "output_type": "execute_result"
    }
   ],
   "source": [
    "(y_pred_lag_NN1 != 0).sum()"
   ]
  },
  {
   "cell_type": "code",
   "execution_count": 123,
   "metadata": {},
   "outputs": [
    {
     "data": {
      "text/plain": [
       "labels    0.826742\n",
       "dtype: float64"
      ]
     },
     "execution_count": 123,
     "metadata": {},
     "output_type": "execute_result"
    }
   ],
   "source": [
    "(y_pred_lag_NN1 != 0).sum() / (y_test_lag != 0).sum()"
   ]
  },
  {
   "cell_type": "code",
   "execution_count": 124,
   "metadata": {},
   "outputs": [
    {
     "data": {
      "text/plain": [
       "0.520501138952164"
      ]
     },
     "execution_count": 124,
     "metadata": {},
     "output_type": "execute_result"
    }
   ],
   "source": [
    "(y_pred_lag_NN1[np.where(y_pred_lag_NN1 != 0)] == y_test_lag.values.ravel()[np.where(y_pred_lag_NN1 != 0)]).sum() / len((y_pred_lag_NN1[np.where(y_pred_lag_NN1 != 0)]))\n"
   ]
  },
  {
   "cell_type": "markdown",
   "metadata": {},
   "source": [
    "# CV NN1"
   ]
  },
  {
   "cell_type": "code",
   "execution_count": 125,
   "metadata": {},
   "outputs": [],
   "source": [
    "def model_1():\n",
    "    model = Sequential()\n",
    "    model.add(Dense(8, input_dim=135, activation='relu'))\n",
    "    model.add(Dense(5, activation='softmax'))\n",
    "    sgd = SGD(lr=0.01, decay=1e-6, momentum=0.9, nesterov=False)\n",
    "    model.compile(loss='categorical_crossentropy', optimizer=sgd, metrics=['accuracy'])\n",
    "    return model"
   ]
  },
  {
   "cell_type": "code",
   "execution_count": 126,
   "metadata": {},
   "outputs": [],
   "source": [
    "estimator = KerasClassifier(build_fn=model_1, epochs=100, batch_size=256, verbose=False)"
   ]
  },
  {
   "cell_type": "code",
   "execution_count": 127,
   "metadata": {},
   "outputs": [],
   "source": [
    "kfold = KFold(n_splits=5, shuffle=True, random_state=1234)"
   ]
  },
  {
   "cell_type": "code",
   "execution_count": 128,
   "metadata": {},
   "outputs": [
    {
     "name": "stdout",
     "output_type": "stream",
     "text": [
      "Model_1: 83.03% (0.93%)\n"
     ]
    }
   ],
   "source": [
    "results = cross_val_score(estimator, X_train_lag_scaled, y_train_lag_onehot, cv=kfold)\n",
    "print(\"Model_1: %.2f%% (%.2f%%)\" % (results.mean()*100, results.std()*100))"
   ]
  },
  {
   "cell_type": "markdown",
   "metadata": {},
   "source": [
    "# NN model 2"
   ]
  },
  {
   "cell_type": "code",
   "execution_count": 129,
   "metadata": {},
   "outputs": [],
   "source": [
    "model = Sequential()\n",
    "model.add(Dense(10, input_dim=135, activation='relu'))\n",
    "model.add(Dense(10, activation='relu'))\n",
    "model.add(Dense(5, activation='softmax'))\n",
    "\n",
    "sgd = SGD(lr=0.01, decay=1e-6, momentum=0.9, nesterov=False)\n",
    "model.compile(loss='categorical_crossentropy', optimizer=sgd, metrics=['accuracy'])"
   ]
  },
  {
   "cell_type": "code",
   "execution_count": 130,
   "metadata": {},
   "outputs": [],
   "source": [
    "history = model.fit(X_train_lag_scaled, y_train_lag_onehot, validation_split=0.25, epochs=100, batch_size=256, verbose=False)"
   ]
  },
  {
   "cell_type": "code",
   "execution_count": 131,
   "metadata": {},
   "outputs": [
    {
     "data": {
      "text/plain": [
       "0.8315924109997869"
      ]
     },
     "execution_count": 131,
     "metadata": {},
     "output_type": "execute_result"
    }
   ],
   "source": [
    "y_pred_lag_NN2 = model.predict_classes(X_test_lag_scaled)\n",
    "(y_pred_lag_NN2 == y_test_lag.values.ravel()).sum() / len(y_pred_lag_NN2)"
   ]
  },
  {
   "cell_type": "code",
   "execution_count": 132,
   "metadata": {},
   "outputs": [
    {
     "data": {
      "text/plain": [
       "893"
      ]
     },
     "execution_count": 132,
     "metadata": {},
     "output_type": "execute_result"
    }
   ],
   "source": [
    "(y_pred_lag_NN2 != 0).sum()"
   ]
  },
  {
   "cell_type": "code",
   "execution_count": 133,
   "metadata": {},
   "outputs": [
    {
     "data": {
      "text/plain": [
       "labels    0.840866\n",
       "dtype: float64"
      ]
     },
     "execution_count": 133,
     "metadata": {},
     "output_type": "execute_result"
    }
   ],
   "source": [
    "(y_pred_lag_NN2 != 0).sum() / (y_test_lag != 0).sum()"
   ]
  },
  {
   "cell_type": "code",
   "execution_count": 134,
   "metadata": {},
   "outputs": [
    {
     "data": {
      "text/plain": [
       "0.541993281075028"
      ]
     },
     "execution_count": 134,
     "metadata": {},
     "output_type": "execute_result"
    }
   ],
   "source": [
    "(y_pred_lag_NN2[np.where(y_pred_lag_NN2 != 0)] == y_test_lag.values.ravel()[np.where(y_pred_lag_NN2 != 0)]).sum() / len((y_pred_lag_NN2[np.where(y_pred_lag_NN2 != 0)]))\n"
   ]
  },
  {
   "cell_type": "markdown",
   "metadata": {},
   "source": [
    "# CV NN2"
   ]
  },
  {
   "cell_type": "code",
   "execution_count": 139,
   "metadata": {},
   "outputs": [],
   "source": [
    "def model_2():\n",
    "    model = Sequential()\n",
    "    model.add(Dense(10, input_dim=135, activation='relu'))\n",
    "    model.add(Dense(10, activation='relu'))\n",
    "    model.add(Dense(5, activation='softmax'))\n",
    "    sgd = SGD(lr=0.01, decay=1e-6, momentum=0.9, nesterov=False)\n",
    "    model.compile(loss='categorical_crossentropy', optimizer=sgd, metrics=['accuracy'])\n",
    "    return model"
   ]
  },
  {
   "cell_type": "code",
   "execution_count": 140,
   "metadata": {},
   "outputs": [],
   "source": [
    "estimator = KerasClassifier(build_fn=model_2, epochs=100, batch_size=256, verbose=False)"
   ]
  },
  {
   "cell_type": "code",
   "execution_count": 141,
   "metadata": {},
   "outputs": [],
   "source": [
    "kfold = KFold(n_splits=5, shuffle=True, random_state=1234)"
   ]
  },
  {
   "cell_type": "code",
   "execution_count": 142,
   "metadata": {},
   "outputs": [
    {
     "name": "stdout",
     "output_type": "stream",
     "text": [
      "Model_1: 83.74% (0.54%)\n"
     ]
    }
   ],
   "source": [
    "results = cross_val_score(estimator, X_train_lag_scaled, y_train_lag_onehot, cv=kfold)\n",
    "print(\"Model_1: %.2f%% (%.2f%%)\" % (results.mean()*100, results.std()*100))"
   ]
  },
  {
   "cell_type": "markdown",
   "metadata": {},
   "source": [
    "# NN model 3"
   ]
  },
  {
   "cell_type": "code",
   "execution_count": 143,
   "metadata": {},
   "outputs": [],
   "source": [
    "model = Sequential()\n",
    "model.add(Dense(100, input_dim=135, activation='relu'))\n",
    "model.add(Dense(100, activation='relu'))\n",
    "model.add(Dense(100, activation='relu'))\n",
    "model.add(Dense(100, activation='relu'))\n",
    "model.add(Dense(5, activation='softmax'))\n",
    "\n",
    "sgd = SGD(lr=0.01, decay=1e-6, momentum=0.9, nesterov=False)\n",
    "model.compile(loss='categorical_crossentropy', optimizer=sgd, metrics=['accuracy'])"
   ]
  },
  {
   "cell_type": "code",
   "execution_count": 144,
   "metadata": {},
   "outputs": [],
   "source": [
    "history = model.fit(X_train_lag_scaled, y_train_lag_onehot, validation_split=0.25, epochs=100, batch_size=256, verbose=False)"
   ]
  },
  {
   "cell_type": "code",
   "execution_count": 145,
   "metadata": {},
   "outputs": [
    {
     "data": {
      "text/plain": [
       "0.9023662332125346"
      ]
     },
     "execution_count": 145,
     "metadata": {},
     "output_type": "execute_result"
    }
   ],
   "source": [
    "y_pred_lag_NN3 = model.predict_classes(X_test_lag_scaled)\n",
    "(y_pred_lag_NN3 == y_test_lag.values.ravel()).sum() / len(y_pred_lag_NN3)"
   ]
  },
  {
   "cell_type": "code",
   "execution_count": 146,
   "metadata": {},
   "outputs": [
    {
     "data": {
      "text/plain": [
       "1122"
      ]
     },
     "execution_count": 146,
     "metadata": {},
     "output_type": "execute_result"
    }
   ],
   "source": [
    "(y_pred_lag_NN3 != 0).sum()"
   ]
  },
  {
   "cell_type": "code",
   "execution_count": 147,
   "metadata": {},
   "outputs": [
    {
     "data": {
      "text/plain": [
       "labels    1.056497\n",
       "dtype: float64"
      ]
     },
     "execution_count": 147,
     "metadata": {},
     "output_type": "execute_result"
    }
   ],
   "source": [
    "(y_pred_lag_NN3 != 0).sum() / (y_test_lag != 0).sum()"
   ]
  },
  {
   "cell_type": "code",
   "execution_count": 148,
   "metadata": {},
   "outputs": [
    {
     "data": {
      "text/plain": [
       "0.7361853832442068"
      ]
     },
     "execution_count": 148,
     "metadata": {},
     "output_type": "execute_result"
    }
   ],
   "source": [
    "(y_pred_lag_NN3[np.where(y_pred_lag_NN3 != 0)] == y_test_lag.values.ravel()[np.where(y_pred_lag_NN3 != 0)]).sum() / len((y_pred_lag_NN3[np.where(y_pred_lag_NN3 != 0)]))\n"
   ]
  },
  {
   "cell_type": "markdown",
   "metadata": {},
   "source": [
    "# CV NN3"
   ]
  },
  {
   "cell_type": "code",
   "execution_count": 149,
   "metadata": {},
   "outputs": [],
   "source": [
    "def model_3():\n",
    "    model = Sequential()\n",
    "    model.add(Dense(100, input_dim=135, activation='relu'))\n",
    "    model.add(Dense(100, activation='relu'))\n",
    "    model.add(Dense(100, activation='relu'))\n",
    "    model.add(Dense(100, activation='relu'))\n",
    "    model.add(Dense(5, activation='softmax'))\n",
    "    sgd = SGD(lr=0.01, decay=1e-6, momentum=0.9, nesterov=False)\n",
    "    model.compile(loss='categorical_crossentropy', optimizer=sgd, metrics=['accuracy'])\n",
    "    return model"
   ]
  },
  {
   "cell_type": "code",
   "execution_count": 150,
   "metadata": {},
   "outputs": [],
   "source": [
    "estimator = KerasClassifier(build_fn=model_3, epochs=100, batch_size=256, verbose=False)"
   ]
  },
  {
   "cell_type": "code",
   "execution_count": 151,
   "metadata": {},
   "outputs": [],
   "source": [
    "kfold = KFold(n_splits=5, shuffle=True, random_state=1234)"
   ]
  },
  {
   "cell_type": "code",
   "execution_count": 152,
   "metadata": {},
   "outputs": [
    {
     "name": "stdout",
     "output_type": "stream",
     "text": [
      "Model_1: 91.24% (0.57%)\n"
     ]
    }
   ],
   "source": [
    "results = cross_val_score(estimator, X_train_lag_scaled, y_train_lag_onehot, cv=kfold)\n",
    "print(\"Model_1: %.2f%% (%.2f%%)\" % (results.mean()*100, results.std()*100))"
   ]
  },
  {
   "cell_type": "markdown",
   "metadata": {},
   "source": [
    "# TRN PLOTS"
   ]
  },
  {
   "cell_type": "code",
   "execution_count": 153,
   "metadata": {},
   "outputs": [
    {
     "data": {
      "image/png": "[encoded data removed]",
      "text/plain": [
       "<Figure size 432x288 with 1 Axes>"
      ]
     },
     "metadata": {
      "needs_background": "light"
     },
     "output_type": "display_data"
    },
    {
     "data": {
      "image/png": "[encoded data removed]",
      "text/plain": [
       "<Figure size 432x288 with 1 Axes>"
      ]
     },
     "metadata": {
      "needs_background": "light"
     },
     "output_type": "display_data"
    }
   ],
   "source": [
    "# Plot training & validation accuracy values\n",
    "plt.plot(history.history['acc'])\n",
    "plt.plot(history.history['val_acc'])\n",
    "plt.title('Model accuracy')\n",
    "plt.ylabel('Accuracy')\n",
    "plt.xlabel('Epoch')\n",
    "plt.legend(['Train', 'Test'], loc='upper left')\n",
    "plt.show()\n",
    "\n",
    "# Plot training & validation loss values\n",
    "plt.plot(history.history['loss'])\n",
    "plt.plot(history.history['val_loss'])\n",
    "plt.title('Model loss')\n",
    "plt.ylabel('Loss')\n",
    "plt.xlabel('Epoch')\n",
    "plt.legend(['Train', 'Test'], loc='upper left')\n",
    "plt.show()"
   ]
  },
  {
   "cell_type": "markdown",
   "metadata": {},
   "source": [
    "# CROSS VALIDATION SCORES"
   ]
  },
  {
   "cell_type": "code",
   "execution_count": 154,
   "metadata": {},
   "outputs": [
    {
     "name": "stdout",
     "output_type": "stream",
     "text": [
      "Accuracy GNB: 0.55 (+/- 0.18)\n",
      "Accuracy kNN: 0.65 (+/- 0.07)\n",
      "Accuracy LDA: 0.75 (+/- 0.12)\n",
      "Accuracy QDA: 0.73 (+/- 0.08)\n"
     ]
    }
   ],
   "source": [
    "gnb_scores_lag = cross_val_score(clf_gnb_lag, data_lag.iloc[:, 1:-1], data_lag.iloc[:, -1], cv=10)\n",
    "print(\"Accuracy GNB: %0.2f (+/- %0.2f)\" % (gnb_scores_lag.mean(), gnb_scores_lag.std() * 2))\n",
    "knn_scores_lag = cross_val_score(clf_knn_lag, data_lag.iloc[:, 1:-1], data_lag.iloc[:, -1], cv=10)\n",
    "print(\"Accuracy kNN: %0.2f (+/- %0.2f)\" % (knn_scores_lag.mean(), knn_scores_lag.std() * 2))\n",
    "#mnr_scores = cross_val_score(clf_mnr, data.iloc[:, 1:-1], data.iloc[:, -1], cv=10)\n",
    "#print(\"Accuracy MNR: %0.2f (+/- %0.2f)\" % (mnr_scores.mean(), mnr_scores.std() * 2))\n",
    "#svm_scores_lag = cross_val_score(clf_svm_lag, data_lag.iloc[:, 1:-1], data_lag.iloc[:, -1], cv=10)\n",
    "#print(\"Accuracy SVM: %0.2f (+/- %0.2f)\" % (svm_scores_lag.mean(), svm_scores_lag.std() * 2))\n",
    "lda_scores_lag = cross_val_score(clf_lda_lag, data_lag.iloc[:, 1:-1], data_lag.iloc[:, -1], cv=10)\n",
    "print(\"Accuracy LDA: %0.2f (+/- %0.2f)\" % (lda_scores_lag.mean(), lda_scores_lag.std() * 2))\n",
    "qda_scores_lag = cross_val_score(clf_qda_lag, data_lag.iloc[:, 1:-1], data_lag.iloc[:, -1], cv=10)\n",
    "print(\"Accuracy QDA: %0.2f (+/- %0.2f)\" % (qda_scores_lag.mean(), qda_scores_lag.std() * 2))"
   ]
  },
  {
   "cell_type": "code",
   "execution_count": null,
   "metadata": {},
   "outputs": [],
   "source": []
  },
  {
   "cell_type": "code",
   "execution_count": null,
   "metadata": {},
   "outputs": [],
   "source": []
  },
  {
   "cell_type": "markdown",
   "metadata": {},
   "source": [
    "# BALANCED DATA"
   ]
  },
  {
   "cell_type": "code",
   "execution_count": 170,
   "metadata": {},
   "outputs": [],
   "source": [
    "from imblearn.over_sampling import SMOTE\n",
    "sm = SMOTE(random_state=42)\n",
    "X_res, y_res = sm.fit_sample(data_lag.iloc[:,1:-1], data_lag.iloc[:,-1].values.ravel())"
   ]
  },
  {
   "cell_type": "code",
   "execution_count": 176,
   "metadata": {},
   "outputs": [],
   "source": [
    "X_train_res, X_test_res, y_train_res, y_test_res = train_test_split(\n",
    "    X_res, y_res, test_size=0.2, random_state=0)\n",
    "X_train_res_scaled = preprocessing.scale(X_train_res)\n",
    "X_test_res_scaled = preprocessing.scale(X_test_res)"
   ]
  },
  {
   "cell_type": "code",
   "execution_count": 195,
   "metadata": {},
   "outputs": [
    {
     "name": "stdout",
     "output_type": "stream",
     "text": [
      "[(0, 14564), (1, 14525), (2, 14497), (3, 14506), (4, 14448)]\n",
      "(72540,)\n"
     ]
    }
   ],
   "source": [
    "from collections import Counter\n",
    "print(sorted(Counter(y_train_res).items()))\n",
    "print(y_train_res.shape)\n",
    "y_train_res_onehot = keras.utils.to_categorical(y_train_res, num_classes=5)"
   ]
  },
  {
   "cell_type": "code",
   "execution_count": 178,
   "metadata": {},
   "outputs": [],
   "source": [
    "model = Sequential()\n",
    "model.add(Dense(100, input_dim=135, activation='relu'))\n",
    "model.add(Dense(100, activation='relu'))\n",
    "model.add(Dense(100, activation='relu'))\n",
    "model.add(Dense(100, activation='relu'))\n",
    "model.add(Dense(5, activation='softmax'))\n",
    "\n",
    "sgd = SGD(lr=0.01, decay=1e-6, momentum=0.9, nesterov=False)\n",
    "model.compile(loss='categorical_crossentropy', optimizer=sgd, metrics=['accuracy'])"
   ]
  },
  {
   "cell_type": "code",
   "execution_count": 179,
   "metadata": {},
   "outputs": [],
   "source": [
    "history = model.fit(X_train_res_scaled, y_train_res_onehot, validation_split=0.25, epochs=100, batch_size=256, verbose=False)\n",
    "\n"
   ]
  },
  {
   "cell_type": "code",
   "execution_count": 181,
   "metadata": {},
   "outputs": [
    {
     "data": {
      "text/plain": [
       "0.9879790460435621"
      ]
     },
     "execution_count": 181,
     "metadata": {},
     "output_type": "execute_result"
    }
   ],
   "source": [
    "y_pred_res_NN3 = model.predict_classes(X_test_res_scaled)\n",
    "(y_pred_res_NN3 == y_test_res).sum() / len(y_pred_res_NN3)"
   ]
  },
  {
   "cell_type": "code",
   "execution_count": 182,
   "metadata": {},
   "outputs": [
    {
     "data": {
      "text/plain": [
       "14726"
      ]
     },
     "execution_count": 182,
     "metadata": {},
     "output_type": "execute_result"
    }
   ],
   "source": [
    "(y_pred_res_NN3 != 0).sum()"
   ]
  },
  {
   "cell_type": "code",
   "execution_count": 183,
   "metadata": {},
   "outputs": [
    {
     "data": {
      "text/plain": [
       "1.0111233177698435"
      ]
     },
     "execution_count": 183,
     "metadata": {},
     "output_type": "execute_result"
    }
   ],
   "source": [
    "(y_pred_res_NN3 != 0).sum() / (y_test_res != 0).sum()"
   ]
  },
  {
   "cell_type": "code",
   "execution_count": 185,
   "metadata": {},
   "outputs": [
    {
     "data": {
      "text/plain": [
       "0.9870976504142334"
      ]
     },
     "execution_count": 185,
     "metadata": {},
     "output_type": "execute_result"
    }
   ],
   "source": [
    "(y_pred_res_NN3[np.where(y_pred_res_NN3 != 0)] == y_test_res[np.where(y_pred_res_NN3 != 0)]).sum() / len((y_pred_res_NN3[np.where(y_pred_res_NN3 != 0)]))\n"
   ]
  },
  {
   "cell_type": "markdown",
   "metadata": {},
   "source": [
    "# CV NN3"
   ]
  },
  {
   "cell_type": "code",
   "execution_count": 190,
   "metadata": {},
   "outputs": [],
   "source": [
    "def model_4():\n",
    "    model = Sequential()\n",
    "    model.add(Dense(100, input_dim=135, activation='relu'))\n",
    "    model.add(Dense(100, activation='relu'))\n",
    "    model.add(Dense(100, activation='relu'))\n",
    "    model.add(Dense(100, activation='relu'))\n",
    "    model.add(Dense(5, activation='softmax'))\n",
    "    sgd = SGD(lr=0.01, decay=1e-6, momentum=0.9, nesterov=False)\n",
    "    model.compile(loss='categorical_crossentropy', optimizer=sgd, metrics=['accuracy'])\n",
    "    return model"
   ]
  },
  {
   "cell_type": "code",
   "execution_count": 191,
   "metadata": {},
   "outputs": [],
   "source": [
    "estimator = KerasClassifier(build_fn=model_4, epochs=100, batch_size=256, verbose=False)"
   ]
  },
  {
   "cell_type": "code",
   "execution_count": 192,
   "metadata": {},
   "outputs": [],
   "source": [
    "kfold = KFold(n_splits=5, shuffle=True, random_state=1234)"
   ]
  },
  {
   "cell_type": "code",
   "execution_count": 193,
   "metadata": {},
   "outputs": [
    {
     "name": "stdout",
     "output_type": "stream",
     "text": [
      "Model_4: 98.44% (0.15%)\n"
     ]
    }
   ],
   "source": [
    "results = cross_val_score(estimator, X_train_res_scaled, y_train_res_onehot, cv=kfold)\n",
    "print(\"Model_4: %.2f%% (%.2f%%)\" % (results.mean()*100, results.std()*100))"
   ]
  },
  {
   "cell_type": "code",
   "execution_count": null,
   "metadata": {},
   "outputs": [],
   "source": []
  },
  {
   "cell_type": "code",
   "execution_count": null,
   "metadata": {},
   "outputs": [],
   "source": []
  },
  {
   "cell_type": "code",
   "execution_count": null,
   "metadata": {},
   "outputs": [],
   "source": []
  },
  {
   "cell_type": "code",
   "execution_count": null,
   "metadata": {},
   "outputs": [],
   "source": []
  },
  {
   "cell_type": "code",
   "execution_count": null,
   "metadata": {},
   "outputs": [],
   "source": []
  },
  {
   "cell_type": "code",
   "execution_count": null,
   "metadata": {},
   "outputs": [],
   "source": []
  }
 ],
 "metadata": {
  "kernelspec": {
   "display_name": "Python 2",
   "language": "python",
   "name": "python2"
  },
  "language_info": {
   "codemirror_mode": {
    "name": "ipython",
    "version": 2
   },
   "file_extension": ".py",
   "mimetype": "text/x-python",
   "name": "python",
   "nbconvert_exporter": "python",
   "pygments_lexer": "ipython2",
   "version": "2.7.16"
  }
 },
 "nbformat": 4,
 "nbformat_minor": 2
}
